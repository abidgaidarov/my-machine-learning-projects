{
 "cells": [
  {
   "cell_type": "markdown",
   "metadata": {},
   "source": [
    "## Импортируем необходимые библиотеки."
   ]
  },
  {
   "cell_type": "code",
   "execution_count": 660,
   "metadata": {},
   "outputs": [],
   "source": [
    "# Имнор библиотек \n",
    "import pandas as pd\n",
    "import numpy as np\n",
    "\n",
    "# Импорт библиотек для визуализации\n",
    "import matplotlib.pyplot as plt\n",
    "import seaborn as sns"
   ]
  },
  {
   "cell_type": "markdown",
   "metadata": {},
   "source": [
    "### Описание входных данных\n",
    "\n",
    "- ID объявления\n",
    "- Количество комнат \n",
    "- Тип \n",
    "- Метро \n",
    "- Адрес\n",
    "- Площадь в м^2\n",
    "- Дом \n",
    "- Парковка \n",
    "- Цена \n",
    "- Телефоны \n",
    "- Описание \n",
    "- Ремонт \n",
    "- Плозадь комнат, м^2\n",
    "- Балкон \n",
    "- Окна\n",
    "- Санузел \n",
    "- Можно с детьми/животными \n",
    "- Дополнительно \n",
    "- Название ЖК\n",
    "- Серия дома \n",
    "- Высота потолка, м\n",
    "- Лифт \n",
    "- Мусоропровод \n",
    "- Ссылка на объявление \n",
    "\n",
    "### ***Цена - таргетный признак***\n",
    "-----------------------------------------------------------------------------------------------------------------------------"
   ]
  },
  {
   "cell_type": "markdown",
   "metadata": {},
   "source": [
    "## Прочитаем датасет в переменную."
   ]
  },
  {
   "cell_type": "code",
   "execution_count": 661,
   "metadata": {},
   "outputs": [],
   "source": [
    "df = pd.read_csv('cian_dataset.csv')\n",
    "pd.options.display.max_columns = None"
   ]
  },
  {
   "cell_type": "markdown",
   "metadata": {},
   "source": [
    "## Проанализируем датасет."
   ]
  },
  {
   "cell_type": "code",
   "execution_count": 662,
   "metadata": {},
   "outputs": [
    {
     "data": {
      "text/html": [
       "<div>\n",
       "<style scoped>\n",
       "    .dataframe tbody tr th:only-of-type {\n",
       "        vertical-align: middle;\n",
       "    }\n",
       "\n",
       "    .dataframe tbody tr th {\n",
       "        vertical-align: top;\n",
       "    }\n",
       "\n",
       "    .dataframe thead th {\n",
       "        text-align: right;\n",
       "    }\n",
       "</style>\n",
       "<table border=\"1\" class=\"dataframe\">\n",
       "  <thead>\n",
       "    <tr style=\"text-align: right;\">\n",
       "      <th></th>\n",
       "      <th>Unnamed: 0</th>\n",
       "      <th>ID  объявления</th>\n",
       "      <th>Количество комнат</th>\n",
       "      <th>Тип</th>\n",
       "      <th>Метро</th>\n",
       "      <th>Адрес</th>\n",
       "      <th>Площадь, м2</th>\n",
       "      <th>Дом</th>\n",
       "      <th>Парковка</th>\n",
       "      <th>Цена</th>\n",
       "      <th>Телефоны</th>\n",
       "      <th>Описание</th>\n",
       "      <th>Ремонт</th>\n",
       "      <th>Площадь комнат, м2</th>\n",
       "      <th>Балкон</th>\n",
       "      <th>Окна</th>\n",
       "      <th>Санузел</th>\n",
       "      <th>Можно с детьми/животными</th>\n",
       "      <th>Дополнительно</th>\n",
       "      <th>Название ЖК</th>\n",
       "      <th>Серия дома</th>\n",
       "      <th>Высота потолков, м</th>\n",
       "      <th>Лифт</th>\n",
       "      <th>Мусоропровод</th>\n",
       "      <th>Ссылка на объявление</th>\n",
       "    </tr>\n",
       "  </thead>\n",
       "  <tbody>\n",
       "    <tr>\n",
       "      <th>0</th>\n",
       "      <td>0</td>\n",
       "      <td>271271157</td>\n",
       "      <td>4</td>\n",
       "      <td>Квартира</td>\n",
       "      <td>м. Смоленская (9 мин пешком)</td>\n",
       "      <td>Москва, улица Новый Арбат, 27</td>\n",
       "      <td>200.0/20.0</td>\n",
       "      <td>5/16, Монолитный</td>\n",
       "      <td>подземная</td>\n",
       "      <td>500000.0 руб./ За месяц, Залог - 500000 руб., ...</td>\n",
       "      <td>+79166369231</td>\n",
       "      <td>Без комиссии для нанимателя! Бонус коллегам 12...</td>\n",
       "      <td>Дизайнерский</td>\n",
       "      <td>NaN</td>\n",
       "      <td>NaN</td>\n",
       "      <td>NaN</td>\n",
       "      <td>NaN</td>\n",
       "      <td>Можно с детьми, Можно с животными</td>\n",
       "      <td>Мебель в комнатах, Мебель на кухне, Ванна, Душ...</td>\n",
       "      <td>Новый Арбат, 2010</td>\n",
       "      <td>NaN</td>\n",
       "      <td>3.0</td>\n",
       "      <td>Пасс (4), Груз (1)</td>\n",
       "      <td>Да</td>\n",
       "      <td>https://www.cian.ru/rent/flat/271271157</td>\n",
       "    </tr>\n",
       "    <tr>\n",
       "      <th>1</th>\n",
       "      <td>1</td>\n",
       "      <td>271634126</td>\n",
       "      <td>4</td>\n",
       "      <td>Квартира</td>\n",
       "      <td>м. Смоленская (8 мин пешком)</td>\n",
       "      <td>Москва, улица Новый Арбат, 27</td>\n",
       "      <td>198.0/95.0/18.0</td>\n",
       "      <td>5/16, Монолитно-кирпичный</td>\n",
       "      <td>подземная</td>\n",
       "      <td>500000.0 руб./ За месяц, Залог - 500000 руб., ...</td>\n",
       "      <td>+79850608590</td>\n",
       "      <td>Лот 93107. Елена Анисимова.\\n\\nБонус агенту 50...</td>\n",
       "      <td>Дизайнерский</td>\n",
       "      <td>25 25 20 25</td>\n",
       "      <td>NaN</td>\n",
       "      <td>На улицу и двор</td>\n",
       "      <td>Совмещенный (2), Раздельный (1)</td>\n",
       "      <td>Можно с детьми</td>\n",
       "      <td>Мебель в комнатах, Мебель на кухне, Ванна, Душ...</td>\n",
       "      <td>Новый Арбат</td>\n",
       "      <td>NaN</td>\n",
       "      <td>3.5</td>\n",
       "      <td>Пасс (1), Груз (1)</td>\n",
       "      <td>Нет</td>\n",
       "      <td>https://www.cian.ru/rent/flat/271634126</td>\n",
       "    </tr>\n",
       "    <tr>\n",
       "      <th>2</th>\n",
       "      <td>2</td>\n",
       "      <td>271173086</td>\n",
       "      <td>4, Оба варианта</td>\n",
       "      <td>Квартира</td>\n",
       "      <td>м. Смоленская (7 мин пешком)</td>\n",
       "      <td>Москва, улица Новый Арбат, 27</td>\n",
       "      <td>200.0/116.0/4.0</td>\n",
       "      <td>5/16</td>\n",
       "      <td>подземная</td>\n",
       "      <td>500000.0 руб./ За месяц, Залог - 500000 руб., ...</td>\n",
       "      <td>+79672086536, +79099269384</td>\n",
       "      <td>ID 36380:  Шикарная 4-х км. квартира в ЖК \"Нов...</td>\n",
       "      <td>Евроремонт</td>\n",
       "      <td>NaN</td>\n",
       "      <td>NaN</td>\n",
       "      <td>На улицу и двор</td>\n",
       "      <td>Совмещенный (3)</td>\n",
       "      <td>Можно с детьми</td>\n",
       "      <td>Мебель в комнатах, Мебель на кухне, Ванна, Душ...</td>\n",
       "      <td>Новый Арбат</td>\n",
       "      <td>NaN</td>\n",
       "      <td>3.2</td>\n",
       "      <td>Пасс (1)</td>\n",
       "      <td>NaN</td>\n",
       "      <td>https://www.cian.ru/rent/flat/271173086</td>\n",
       "    </tr>\n",
       "  </tbody>\n",
       "</table>\n",
       "</div>"
      ],
      "text/plain": [
       "   Unnamed: 0  ID  объявления Количество комнат       Тип  \\\n",
       "0           0       271271157                 4  Квартира   \n",
       "1           1       271634126                 4  Квартира   \n",
       "2           2       271173086   4, Оба варианта  Квартира   \n",
       "\n",
       "                          Метро                          Адрес  \\\n",
       "0  м. Смоленская (9 мин пешком)  Москва, улица Новый Арбат, 27   \n",
       "1  м. Смоленская (8 мин пешком)  Москва, улица Новый Арбат, 27   \n",
       "2  м. Смоленская (7 мин пешком)  Москва, улица Новый Арбат, 27   \n",
       "\n",
       "       Площадь, м2                        Дом   Парковка  \\\n",
       "0       200.0/20.0           5/16, Монолитный  подземная   \n",
       "1  198.0/95.0/18.0  5/16, Монолитно-кирпичный  подземная   \n",
       "2  200.0/116.0/4.0                       5/16  подземная   \n",
       "\n",
       "                                                Цена  \\\n",
       "0  500000.0 руб./ За месяц, Залог - 500000 руб., ...   \n",
       "1  500000.0 руб./ За месяц, Залог - 500000 руб., ...   \n",
       "2  500000.0 руб./ За месяц, Залог - 500000 руб., ...   \n",
       "\n",
       "                     Телефоны  \\\n",
       "0                +79166369231   \n",
       "1                +79850608590   \n",
       "2  +79672086536, +79099269384   \n",
       "\n",
       "                                            Описание        Ремонт  \\\n",
       "0  Без комиссии для нанимателя! Бонус коллегам 12...  Дизайнерский   \n",
       "1  Лот 93107. Елена Анисимова.\\n\\nБонус агенту 50...  Дизайнерский   \n",
       "2  ID 36380:  Шикарная 4-х км. квартира в ЖК \"Нов...    Евроремонт   \n",
       "\n",
       "  Площадь комнат, м2 Балкон             Окна                          Санузел  \\\n",
       "0                NaN    NaN              NaN                              NaN   \n",
       "1        25 25 20 25    NaN  На улицу и двор  Совмещенный (2), Раздельный (1)   \n",
       "2                NaN    NaN  На улицу и двор                  Совмещенный (3)   \n",
       "\n",
       "            Можно с детьми/животными  \\\n",
       "0  Можно с детьми, Можно с животными   \n",
       "1                     Можно с детьми   \n",
       "2                     Можно с детьми   \n",
       "\n",
       "                                       Дополнительно        Название ЖК  \\\n",
       "0  Мебель в комнатах, Мебель на кухне, Ванна, Душ...  Новый Арбат, 2010   \n",
       "1  Мебель в комнатах, Мебель на кухне, Ванна, Душ...        Новый Арбат   \n",
       "2  Мебель в комнатах, Мебель на кухне, Ванна, Душ...        Новый Арбат   \n",
       "\n",
       "  Серия дома  Высота потолков, м                Лифт Мусоропровод  \\\n",
       "0        NaN                 3.0  Пасс (4), Груз (1)           Да   \n",
       "1        NaN                 3.5  Пасс (1), Груз (1)          Нет   \n",
       "2        NaN                 3.2            Пасс (1)          NaN   \n",
       "\n",
       "                      Ссылка на объявление  \n",
       "0  https://www.cian.ru/rent/flat/271271157  \n",
       "1  https://www.cian.ru/rent/flat/271634126  \n",
       "2  https://www.cian.ru/rent/flat/271173086  "
      ]
     },
     "execution_count": 662,
     "metadata": {},
     "output_type": "execute_result"
    }
   ],
   "source": [
    "df.head(3)"
   ]
  },
  {
   "cell_type": "code",
   "execution_count": 663,
   "metadata": {},
   "outputs": [
    {
     "name": "stdout",
     "output_type": "stream",
     "text": [
      "<class 'pandas.core.frame.DataFrame'>\n",
      "RangeIndex: 23368 entries, 0 to 23367\n",
      "Data columns (total 25 columns):\n",
      " #   Column                    Non-Null Count  Dtype  \n",
      "---  ------                    --------------  -----  \n",
      " 0   Unnamed: 0                23368 non-null  int64  \n",
      " 1   ID  объявления            23368 non-null  int64  \n",
      " 2   Количество комнат         22327 non-null  object \n",
      " 3   Тип                       23368 non-null  object \n",
      " 4   Метро                     22053 non-null  object \n",
      " 5   Адрес                     23368 non-null  object \n",
      " 6   Площадь, м2               23368 non-null  object \n",
      " 7   Дом                       23368 non-null  object \n",
      " 8   Парковка                  9951 non-null   object \n",
      " 9   Цена                      23368 non-null  object \n",
      " 10  Телефоны                  23368 non-null  object \n",
      " 11  Описание                  23368 non-null  object \n",
      " 12  Ремонт                    20613 non-null  object \n",
      " 13  Площадь комнат, м2        14458 non-null  object \n",
      " 14  Балкон                    15390 non-null  object \n",
      " 15  Окна                      16755 non-null  object \n",
      " 16  Санузел                   20696 non-null  object \n",
      " 17  Можно с детьми/животными  17272 non-null  object \n",
      " 18  Дополнительно             23011 non-null  object \n",
      " 19  Название ЖК               5848 non-null   object \n",
      " 20  Серия дома                2163 non-null   object \n",
      " 21  Высота потолков, м        11206 non-null  float64\n",
      " 22  Лифт                      17868 non-null  object \n",
      " 23  Мусоропровод              12846 non-null  object \n",
      " 24  Ссылка на объявление      23368 non-null  object \n",
      "dtypes: float64(1), int64(2), object(22)\n",
      "memory usage: 4.5+ MB\n"
     ]
    }
   ],
   "source": [
    "# Информация о типах данных и пропущенных значениях\n",
    "df.info()"
   ]
  },
  {
   "cell_type": "markdown",
   "metadata": {},
   "source": [
    "## Выберем только московские квартиры"
   ]
  },
  {
   "cell_type": "code",
   "execution_count": 664,
   "metadata": {},
   "outputs": [],
   "source": [
    "df['Адрес'] = df['Адрес'].apply(lambda x: x if 'Москва' in x else np.nan)\n",
    "df.dropna(subset=['Адрес'], inplace=True)"
   ]
  },
  {
   "cell_type": "markdown",
   "metadata": {},
   "source": [
    "### Проанализируем данные на наличие пропусков"
   ]
  },
  {
   "cell_type": "code",
   "execution_count": 665,
   "metadata": {},
   "outputs": [
    {
     "name": "stdout",
     "output_type": "stream",
     "text": [
      "Серия дома                  89.405685\n",
      "Название ЖК                 77.423114\n",
      "Парковка                    56.614480\n",
      "Высота потолков, м          46.623094\n",
      "Мусоропровод                40.568475\n",
      "Площадь комнат, м2          36.621574\n",
      "Балкон                      33.591731\n",
      "Окна                        26.093125\n",
      "Можно с детьми/животными    24.902467\n",
      "Лифт                        21.239297\n",
      "Ремонт                      12.479100\n",
      "Санузел                     10.340984\n",
      "Количество комнат            2.710645\n",
      "Метро                        1.753053\n",
      "Дополнительно                1.378122\n",
      "dtype: float64\n",
      "\n",
      " Видим, что у признаков Парковка, Площадь комнаты, Балков, название ЖК, серия дома, высота потолков, мусоропровод \n",
      "      больше 30%, дополнение пропусков может сильно исказить данные, поэтому предположительно эти признаки можно удалить \n"
     ]
    }
   ],
   "source": [
    "# Посмотрим на процентное содержание пропусков в каждой колонке и построим тепловую карту пропусков\n",
    "null_data = df.isna().mean() * 100\n",
    "print(null_data[null_data > 0].sort_values(ascending=False))\n",
    "print(f\"\"\"\\n Видим, что у признаков Парковка, Площадь комнаты, Балков, название ЖК, серия дома, высота потолков, мусоропровод \n",
    "      больше 30%, дополнение пропусков может сильно исказить данные, поэтому предположительно эти признаки можно удалить \"\"\")"
   ]
  },
  {
   "cell_type": "code",
   "execution_count": 666,
   "metadata": {},
   "outputs": [
    {
     "name": "stdout",
     "output_type": "stream",
     "text": [
      "Видим, что пропуски коррелируют между собой, более того есть строки в которых не менее трех пропусков\n"
     ]
    },
    {
     "data": {
      "image/png": "[encoded data removed]",
      "text/plain": [
       "<Figure size 864x288 with 2 Axes>"
      ]
     },
     "metadata": {
      "needs_background": "light"
     },
     "output_type": "display_data"
    }
   ],
   "source": [
    "# Построим тепловую карту, чтобы оуенить разброс пропусков\n",
    "colors = ['blue', 'yellow'] \n",
    "cols = null_data[null_data > 0].index\n",
    "plt.figure(figsize=(12, 4))\n",
    "ax = sns.heatmap(\n",
    "    df[cols].isnull(),\n",
    "    cmap=sns.color_palette(colors)\n",
    ")\n",
    "ax.set_title('Визуализация пропусков')\n",
    "print(f'Видим, что пропуски коррелируют между собой, более того есть строки в которых не менее трех пропусков')"
   ]
  },
  {
   "cell_type": "code",
   "execution_count": 667,
   "metadata": {},
   "outputs": [],
   "source": [
    "# Удалим признаки с большим количестовм пропусков\n",
    "from dataclasses import replace\n",
    "\n",
    "\n",
    "df.drop(columns=['Название ЖК', 'Серия дома', 'Площадь комнат, м2','Высота потолков, м', 'Мусоропровод', 'Балкон'], axis=1, inplace=True)\n",
    "\n",
    "# Удалим строки, где есть три пропуска\n",
    "df = df.dropna(thresh=df.shape[1]-3, axis=0)"
   ]
  },
  {
   "cell_type": "markdown",
   "metadata": {},
   "source": [
    "#### Дополним пропуски"
   ]
  },
  {
   "cell_type": "code",
   "execution_count": 668,
   "metadata": {},
   "outputs": [
    {
     "name": "stdout",
     "output_type": "stream",
     "text": [
      "Количество пропусков: 32.2966375953047\n"
     ]
    }
   ],
   "source": [
    "# Признак Парковка - дополним используя одинаковые адреса\n",
    "\n",
    "mask = df['Парковка'].isnull()\n",
    "addresses_with_parking = df[~ mask]['Адрес'].unique().tolist() # Найдем найдем адреса, у которых указана парковка\n",
    "df_with_parking = df[~ mask]\n",
    "\n",
    "# Функция для получения значения парковки\n",
    "def get_parking(x):\n",
    "    if (x['Парковка'] is np.nan) and (x['Адрес'] in addresses_with_parking):\n",
    "        return df_with_parking[df_with_parking['Адрес'] == x['Адрес']]['Парковка'].values[0]\n",
    "    else:\n",
    "        return x['Парковка']\n",
    "    \n",
    "# Применем функцию к датасету\n",
    "df['Парковка'] = df.apply(lambda x: get_parking(x), axis=1)\n",
    "\n",
    "# Пропусков стало меньше\n",
    "print(f\"Количество пропусков: {df['Парковка'].isnull().mean() * 100}\")\n",
    "\n",
    "# Оставшиеся пропуски заменим тем, что парковки нет\n",
    "df.loc[df['Парковка'].isnull(), 'Парковка'] = 'нет'"
   ]
  },
  {
   "cell_type": "code",
   "execution_count": 669,
   "metadata": {},
   "outputs": [
    {
     "data": {
      "text/plain": [
       "Series([], Name: Площадь, м2, dtype: object)"
      ]
     },
     "metadata": {},
     "output_type": "display_data"
    }
   ],
   "source": [
    "# Для признака Можно с детьми/животными заполнем модой\n",
    "df['Можно с детьми/животными'] = df['Можно с детьми/животными'].fillna(df['Можно с детьми/животными'].mode().values[0])\n",
    "\n",
    "# Для признака Окна заполним пропуски медианным значением\n",
    "df['Окна'] = df['Окна'].fillna(df['Окна'].mode().values[0])\n",
    "\n",
    "# Заполним признак лифт модой\n",
    "df['Лифт'] = df['Лифт'].fillna('Пасс_лифт')\n",
    "\n",
    "# Заполним ремонт модой\n",
    "df['Ремонт'] = df['Ремонт'].fillna('Евроремонт')\n",
    "\n",
    "# Заполним санузел модой\n",
    "df['Санузел'] = df['Санузел'].fillna('Совмещенный (1)')\n",
    "\n",
    "# Преобразование для данных Количество комнат\n",
    "df[['Количество комнат', 'Тип комнат']] = df['Количество комнат'].str.split(',', expand=True)\n",
    "df.drop(columns='Тип комнат', inplace=True)\n",
    "# Посмотрим какой площади соответствуют квартиры без количества комнат\n",
    "display(df[df['Количество комнат'] == 'nan']['Площадь, м2'].head(5))\n",
    "# Предположим, что nan имеет отношение к студиям и заменим пропущенные значения на 0.\n",
    "df['Количество комнат'] = df['Количество комнат'].fillna(0)"
   ]
  },
  {
   "cell_type": "code",
   "execution_count": 670,
   "metadata": {},
   "outputs": [
    {
     "name": "stderr",
     "output_type": "stream",
     "text": [
      "/Library/Frameworks/Python.framework/Versions/3.10/lib/python3.10/site-packages/numpy/lib/nanfunctions.py:1215: RuntimeWarning: Mean of empty slice\n",
      "  return np.nanmean(a, axis, out=out, keepdims=keepdims)\n"
     ]
    }
   ],
   "source": [
    "# Заполним пропуски для данных Метро\n",
    "# Создадим два новых признака\n",
    "\n",
    "df[['Метро', 'Расстояние до метро, мин пешком']] = df['Метро'].str.split('(', expand=True)\n",
    "df['Метро'] = df['Метро'].str.strip('м. ')\n",
    "df['Расстояние до метро, мин пешком'] = df['Расстояние до метро, мин пешком'].str[0]\n",
    "\n",
    "# В столбце 'Расстояние до метро, мин пешком' заменим пропущенные \n",
    "# значения путем заполнения медианными значениями соответствущего метро.\n",
    "\n",
    "df['Расстояние до метро, мин пешком'] = df['Расстояние до метро, мин пешком'].replace('N', np.nan)\n",
    "\n",
    "for metro in df['Метро'].unique():\n",
    "    median = df.loc[(df['Метро'] == metro), 'Расстояние до метро, мин пешком'].median()\n",
    "    df.loc[(df['Расстояние до метро, мин пешком'].isna()) & (df['Метро'] == metro), 'Расстояние до метро, мин пешком'] = median"
   ]
  },
  {
   "cell_type": "code",
   "execution_count": 674,
   "metadata": {},
   "outputs": [
    {
     "data": {
      "text/plain": [
       "270"
      ]
     },
     "metadata": {},
     "output_type": "display_data"
    }
   ],
   "source": [
    "display(df['Расстояние до метро, мин пешком'].isna().sum())\n",
    "\n",
    "# Оставшиеся пропуски заполним просто медианой по всем объявлениям:\n",
    "df['Расстояние до метро, мин пешком'].fillna(df['Расстояние до метро, мин пешком'].median())\n",
    "df['Расстояние до метро, мин пешком'] = df['Расстояние до метро, мин пешком'].apply(lambda x: float(x))"
   ]
  },
  {
   "cell_type": "markdown",
   "metadata": {},
   "source": [
    "## Избавимся от бессмысленных признаков"
   ]
  },
  {
   "cell_type": "code",
   "execution_count": 676,
   "metadata": {},
   "outputs": [
    {
     "name": "stdout",
     "output_type": "stream",
     "text": [
      "Unnamed: 0: 100.0% уникальных значений\n",
      "ID  объявления: 100.0% уникальных значений\n",
      "Тип: 100.0% одинаковых значений\n",
      "Описание: 98.52% уникальных значений\n",
      "Ссылка на объявление: 100.0% уникальных значений\n"
     ]
    }
   ],
   "source": [
    "low_information_cols = [] \n",
    "\n",
    "for col in df.columns:\n",
    "    #наибольшая относительная частота в признаке\n",
    "    top_freq = df[col].value_counts(normalize=True).max()\n",
    "    #доля уникальных значений от размера признака\n",
    "    nunique_ratio = df[col].nunique() / df[col].count()\n",
    "    # сравниваем наибольшую частоту с порогом\n",
    "    if top_freq > 0.95:\n",
    "        low_information_cols.append(col)\n",
    "        print(f'{col}: {round(top_freq*100, 2)}% одинаковых значений')\n",
    "    # сравниваем долю уникальных значений с порогом\n",
    "    if nunique_ratio > 0.95:\n",
    "        low_information_cols.append(col)\n",
    "        print(f'{col}: {round(nunique_ratio*100, 2)}% уникальных значений')\n",
    "        \n",
    "# Удалим бесполезные признаки\n",
    "df.drop(columns=low_information_cols, inplace=True)"
   ]
  },
  {
   "cell_type": "markdown",
   "metadata": {},
   "source": [
    "## Проверим на дубликаты"
   ]
  },
  {
   "cell_type": "code",
   "execution_count": 677,
   "metadata": {},
   "outputs": [
    {
     "name": "stdout",
     "output_type": "stream",
     "text": [
      "Нашлось 13 дубликатов\n"
     ]
    }
   ],
   "source": [
    "print(f'Нашлось {df.duplicated().sum()} дубликатов')\n",
    "\n",
    "# Удалим дубликаты\n",
    "df.drop_duplicates(inplace=True)"
   ]
  },
  {
   "cell_type": "code",
   "execution_count": 684,
   "metadata": {},
   "outputs": [
    {
     "data": {
      "text/plain": [
       "Index(['Количество комнат', 'Метро', 'Адрес', 'Площадь, м2', 'Дом', 'Парковка',\n",
       "       'Цена', 'Телефоны', 'Ремонт', 'Окна', 'Санузел',\n",
       "       'Можно с детьми/животными', 'Дополнительно', 'Лифт',\n",
       "       'Расстояние до метро, мин пешком', 'Можно с детьми',\n",
       "       'Можно с животными', 'Во двор', 'На улицу', 'пасс_лифт', 'груз_лифт',\n",
       "       'кол_санузлов', 'Совмещенный', 'Раздельный'],\n",
       "      dtype='object')"
      ]
     },
     "execution_count": 684,
     "metadata": {},
     "output_type": "execute_result"
    }
   ],
   "source": [
    "df.columns"
   ]
  },
  {
   "cell_type": "code",
   "execution_count": 686,
   "metadata": {},
   "outputs": [
    {
     "data": {
      "text/plain": [
       "Селигерская     360\n",
       "Щелковская      295\n",
       "Новогиреево     266\n",
       "Бабушкинская    264\n",
       "Коломенская     253\n",
       "               ... \n",
       "Нахабино          1\n",
       "Румянцево         1\n",
       "Лужники           1\n",
       "Театральная       1\n",
       "Яхромская         1\n",
       "Name: Метро, Length: 277, dtype: int64"
      ]
     },
     "execution_count": 686,
     "metadata": {},
     "output_type": "execute_result"
    }
   ],
   "source": [
    "df['Метро'].value_counts()"
   ]
  },
  {
   "cell_type": "markdown",
   "metadata": {},
   "source": [
    "## Преобразование признаков"
   ]
  },
  {
   "cell_type": "markdown",
   "metadata": {},
   "source": [
    "#### Преобразование категориальных признаков"
   ]
  },
  {
   "cell_type": "code",
   "execution_count": 688,
   "metadata": {},
   "outputs": [],
   "source": [
    "# Преобразование признака метро\n",
    "inner_ring = ['Октябрьская', 'Добрынинская', 'Серпуховская', 'Павелецкая', 'Марксистская',\n",
    "              'Таганская', 'Чкаловская', 'Курская', 'Комсомольская',\n",
    "              'Проспект Мира', 'Достоевская', 'Менделеевская', 'Новослободская', 'Белорусская',\n",
    "              'Баррикадная', 'Краснопресенская', 'Киевская', 'Парк культуры', 'Октябрьская'] # Продолжу утром"
   ]
  },
  {
   "cell_type": "code",
   "execution_count": 678,
   "metadata": {},
   "outputs": [],
   "source": [
    "# Преобразование признака\n",
    "df['Можно с детьми/животными'] = df['Можно с детьми/животными'].apply(lambda x: x.split(', ') if ',' in x else x)\n",
    "df['Можно с детьми'] = df.apply(lambda x: 1 if 'Можно с детьми' in x['Можно с детьми/животными'] else 0, axis=1)\n",
    "df['Можно с животными'] = df.apply(lambda x: 1 if 'Можно с животными' in x['Можно с детьми/животными'] else 0, axis=1)"
   ]
  },
  {
   "cell_type": "code",
   "execution_count": 679,
   "metadata": {},
   "outputs": [],
   "source": [
    "# Преобразование данных для Окон\n",
    "df['Окна'] = df['Окна'].apply(lambda x: x.split(' и ') if (x is not np.nan) and ('и' in x) else x)\n",
    "df['Во двор'] = df.apply(lambda x: 1 if 'Во двор' in x['Окна'] else 0, axis=1)\n",
    "df['На улицу'] = df.apply(lambda x: 1 if 'На улицу' in x['Окна'] else 0, axis=1)"
   ]
  },
  {
   "cell_type": "code",
   "execution_count": 680,
   "metadata": {},
   "outputs": [],
   "source": [
    "# Преобразовани для данных Лист\n",
    "df['Лифт'] = df['Лифт'].apply(lambda x: x.split(', ') if ',' in x else x)\n",
    "df['пасс_лифт'] = df.apply(lambda x: 1 if 'Пасс' in x['Лифт'] else 0, axis=1)\n",
    "df['груз_лифт'] = df.apply(lambda x: 1 if 'Груз' in x['Лифт'] else 0, axis=1)"
   ]
  },
  {
   "cell_type": "code",
   "execution_count": 681,
   "metadata": {},
   "outputs": [],
   "source": [
    "# Преобразование для данных Санузел\n",
    "def get_tol_num(x):\n",
    "    if ',' in x:\n",
    "        x = x.split(', ')\n",
    "        return int(x[0][-2]) + int(x[1][-2])\n",
    "    else:\n",
    "        return x[-2]\n",
    "    \n",
    "df['кол_санузлов'] = df['Санузел'].apply(lambda x: get_tol_num(x))\n",
    "df['Совмещенный'] = df.apply(lambda x: 1 if 'Совмещенный' in x['Санузел'] else 0, axis=1)\n",
    "df['Раздельный'] = df.apply(lambda x: 1 if 'Раздельный' in x['Санузел'] else 0, axis=1)"
   ]
  },
  {
   "cell_type": "code",
   "execution_count": 682,
   "metadata": {},
   "outputs": [
    {
     "data": {
      "text/plain": [
       "'Мебель в комнатах, Мебель на кухне, Ванна, Душевая кабина, Стиральная машина, Кондиционер, Посудомоечная машина, Телевизор, Холодильник, Интернет, Телефон'"
      ]
     },
     "execution_count": 682,
     "metadata": {},
     "output_type": "execute_result"
    }
   ],
   "source": [
    "# Пркобразую, если дадут согласие\n",
    "df['Дополнительно'].iloc[3]"
   ]
  },
  {
   "cell_type": "code",
   "execution_count": null,
   "metadata": {},
   "outputs": [
    {
     "data": {
      "text/html": [
       "<div>\n",
       "<style scoped>\n",
       "    .dataframe tbody tr th:only-of-type {\n",
       "        vertical-align: middle;\n",
       "    }\n",
       "\n",
       "    .dataframe tbody tr th {\n",
       "        vertical-align: top;\n",
       "    }\n",
       "\n",
       "    .dataframe thead th {\n",
       "        text-align: right;\n",
       "    }\n",
       "</style>\n",
       "<table border=\"1\" class=\"dataframe\">\n",
       "  <thead>\n",
       "    <tr style=\"text-align: right;\">\n",
       "      <th></th>\n",
       "      <th>Unnamed: 0</th>\n",
       "      <th>ID  объявления</th>\n",
       "      <th>пасс_лифт</th>\n",
       "      <th>груз_лифт</th>\n",
       "    </tr>\n",
       "  </thead>\n",
       "  <tbody>\n",
       "    <tr>\n",
       "      <th>count</th>\n",
       "      <td>21019.000000</td>\n",
       "      <td>2.101900e+04</td>\n",
       "      <td>21019.000000</td>\n",
       "      <td>21019.000000</td>\n",
       "    </tr>\n",
       "    <tr>\n",
       "      <th>mean</th>\n",
       "      <td>11628.705933</td>\n",
       "      <td>2.672529e+08</td>\n",
       "      <td>0.694086</td>\n",
       "      <td>0.007136</td>\n",
       "    </tr>\n",
       "    <tr>\n",
       "      <th>std</th>\n",
       "      <td>6724.358163</td>\n",
       "      <td>1.940104e+07</td>\n",
       "      <td>0.460804</td>\n",
       "      <td>0.084177</td>\n",
       "    </tr>\n",
       "    <tr>\n",
       "      <th>min</th>\n",
       "      <td>0.000000</td>\n",
       "      <td>1.072986e+08</td>\n",
       "      <td>0.000000</td>\n",
       "      <td>0.000000</td>\n",
       "    </tr>\n",
       "    <tr>\n",
       "      <th>25%</th>\n",
       "      <td>5817.500000</td>\n",
       "      <td>2.711095e+08</td>\n",
       "      <td>0.000000</td>\n",
       "      <td>0.000000</td>\n",
       "    </tr>\n",
       "    <tr>\n",
       "      <th>50%</th>\n",
       "      <td>11565.000000</td>\n",
       "      <td>2.739004e+08</td>\n",
       "      <td>1.000000</td>\n",
       "      <td>0.000000</td>\n",
       "    </tr>\n",
       "    <tr>\n",
       "      <th>75%</th>\n",
       "      <td>17429.500000</td>\n",
       "      <td>2.746901e+08</td>\n",
       "      <td>1.000000</td>\n",
       "      <td>0.000000</td>\n",
       "    </tr>\n",
       "    <tr>\n",
       "      <th>max</th>\n",
       "      <td>23367.000000</td>\n",
       "      <td>2.750064e+08</td>\n",
       "      <td>1.000000</td>\n",
       "      <td>1.000000</td>\n",
       "    </tr>\n",
       "  </tbody>\n",
       "</table>\n",
       "</div>"
      ],
      "text/plain": [
       "         Unnamed: 0  ID  объявления     пасс_лифт     груз_лифт\n",
       "count  21019.000000    2.101900e+04  21019.000000  21019.000000\n",
       "mean   11628.705933    2.672529e+08      0.694086      0.007136\n",
       "std     6724.358163    1.940104e+07      0.460804      0.084177\n",
       "min        0.000000    1.072986e+08      0.000000      0.000000\n",
       "25%     5817.500000    2.711095e+08      0.000000      0.000000\n",
       "50%    11565.000000    2.739004e+08      1.000000      0.000000\n",
       "75%    17429.500000    2.746901e+08      1.000000      0.000000\n",
       "max    23367.000000    2.750064e+08      1.000000      1.000000"
      ]
     },
     "execution_count": 315,
     "metadata": {},
     "output_type": "execute_result"
    }
   ],
   "source": [
    "df.describe()"
   ]
  },
  {
   "cell_type": "markdown",
   "metadata": {},
   "source": [
    "Нужно:\n",
    "- Unnamed: 0 - удалить\n",
    "- ID  объявления - удалить\n",
    "- Количество комнат - избавиться от слов и перевести в тип int (например \"4, Оба варианта\"), 1041 пропущенных значений\n",
    "- Тип - удалить, так как одно единственное значение - квартира;\n",
    "- Метро - разбить на 2 столбца, разделить метро и расстояние до него, 1315 пропущенных значений;\n",
    "- Адрес - пока выглядит ок\n",
    "- Площадь, м2 - разбить на три столбца\n",
    "- Дом - разбить на три столбца (текущий этаж, общая этажность, тип дома);\n",
    "- Парковка - 13417 пропущенных значений;\n",
    "- Цена - подумать как разбить\n",
    "- Телефоны - удалить\n",
    "- Описание - удалить\n",
    "- Ремонт - 2755 пропущенных значений;\n",
    "- Площадь комнат, м2 - привести в единый формат, 8910 пропущенных значений;\n",
    "- Балкон - разбить на балкон и лоджию (пример: \"Балкон (1), Лоджия (1)\"), 7978 пропущенных значений;\n",
    "- Окна - разбить на улицу и двор, 6613 пропущенных значений;\n",
    "- Санузел - разбить на совмещенный и раздельный, 2672 пропущенных значений;\n",
    "- Можно с детьми/животными - разбить на 3, 6096 пропущенных значений;\n",
    "- Дополнительно - слишком много всего, что можно вытащить, но удалять жалко, 357 пропущенных значений;\n",
    "- Название ЖК - удалить, 17520 пропущенных значений;\n",
    "- Серия дома - думаю можно удалить, 21205 пропущенных значений;\n",
    "- Высота потолков, м - поработать с выбросами, 12162 пропущенных значений;\n",
    "- Лифт - разбить на пассажирский и грузовой, 5500 пропущенных значений;\n",
    "- Мусоропровод - 10522 пропущенных значений;\n",
    "- Ссылка на объявление - удалить.       "
   ]
  },
  {
   "cell_type": "markdown",
   "metadata": {},
   "source": [
    "## Работа над датасетом."
   ]
  },
  {
   "cell_type": "markdown",
   "metadata": {},
   "source": [
    "### 1. Удалим ненужные столбцы:"
   ]
  },
  {
   "cell_type": "code",
   "execution_count": null,
   "metadata": {},
   "outputs": [],
   "source": [
    "df.drop(columns=['Unnamed: 0', 'ID  объявления', 'Тип', 'Телефоны', 'Название ЖК', 'Серия дома', 'Ссылка на объявление', 'Описание'], axis=1, inplace=True)"
   ]
  },
  {
   "cell_type": "code",
   "execution_count": null,
   "metadata": {},
   "outputs": [
    {
     "data": {
      "text/html": [
       "<div>\n",
       "<style scoped>\n",
       "    .dataframe tbody tr th:only-of-type {\n",
       "        vertical-align: middle;\n",
       "    }\n",
       "\n",
       "    .dataframe tbody tr th {\n",
       "        vertical-align: top;\n",
       "    }\n",
       "\n",
       "    .dataframe thead th {\n",
       "        text-align: right;\n",
       "    }\n",
       "</style>\n",
       "<table border=\"1\" class=\"dataframe\">\n",
       "  <thead>\n",
       "    <tr style=\"text-align: right;\">\n",
       "      <th></th>\n",
       "      <th>Количество комнат</th>\n",
       "      <th>Метро</th>\n",
       "      <th>Адрес</th>\n",
       "      <th>Площадь, м2</th>\n",
       "      <th>Дом</th>\n",
       "      <th>Парковка</th>\n",
       "      <th>Цена</th>\n",
       "      <th>Ремонт</th>\n",
       "      <th>Площадь комнат, м2</th>\n",
       "      <th>Балкон</th>\n",
       "      <th>Окна</th>\n",
       "      <th>Санузел</th>\n",
       "      <th>Можно с детьми/животными</th>\n",
       "      <th>Дополнительно</th>\n",
       "      <th>Высота потолков, м</th>\n",
       "      <th>Лифт</th>\n",
       "      <th>Мусоропровод</th>\n",
       "    </tr>\n",
       "  </thead>\n",
       "  <tbody>\n",
       "    <tr>\n",
       "      <th>0</th>\n",
       "      <td>4</td>\n",
       "      <td>м. Смоленская (9 мин пешком)</td>\n",
       "      <td>Москва, улица Новый Арбат, 27</td>\n",
       "      <td>200.0/20.0</td>\n",
       "      <td>5/16, Монолитный</td>\n",
       "      <td>подземная</td>\n",
       "      <td>500000.0 руб./ За месяц, Залог - 500000 руб., ...</td>\n",
       "      <td>Дизайнерский</td>\n",
       "      <td>NaN</td>\n",
       "      <td>NaN</td>\n",
       "      <td>NaN</td>\n",
       "      <td>NaN</td>\n",
       "      <td>Можно с детьми, Можно с животными</td>\n",
       "      <td>Мебель в комнатах, Мебель на кухне, Ванна, Душ...</td>\n",
       "      <td>3.0</td>\n",
       "      <td>Пасс (4), Груз (1)</td>\n",
       "      <td>Да</td>\n",
       "    </tr>\n",
       "    <tr>\n",
       "      <th>1</th>\n",
       "      <td>4</td>\n",
       "      <td>м. Смоленская (8 мин пешком)</td>\n",
       "      <td>Москва, улица Новый Арбат, 27</td>\n",
       "      <td>198.0/95.0/18.0</td>\n",
       "      <td>5/16, Монолитно-кирпичный</td>\n",
       "      <td>подземная</td>\n",
       "      <td>500000.0 руб./ За месяц, Залог - 500000 руб., ...</td>\n",
       "      <td>Дизайнерский</td>\n",
       "      <td>25 25 20 25</td>\n",
       "      <td>NaN</td>\n",
       "      <td>На улицу и двор</td>\n",
       "      <td>Совмещенный (2), Раздельный (1)</td>\n",
       "      <td>Можно с детьми</td>\n",
       "      <td>Мебель в комнатах, Мебель на кухне, Ванна, Душ...</td>\n",
       "      <td>3.5</td>\n",
       "      <td>Пасс (1), Груз (1)</td>\n",
       "      <td>Нет</td>\n",
       "    </tr>\n",
       "    <tr>\n",
       "      <th>2</th>\n",
       "      <td>4, Оба варианта</td>\n",
       "      <td>м. Смоленская (7 мин пешком)</td>\n",
       "      <td>Москва, улица Новый Арбат, 27</td>\n",
       "      <td>200.0/116.0/4.0</td>\n",
       "      <td>5/16</td>\n",
       "      <td>подземная</td>\n",
       "      <td>500000.0 руб./ За месяц, Залог - 500000 руб., ...</td>\n",
       "      <td>Евроремонт</td>\n",
       "      <td>NaN</td>\n",
       "      <td>NaN</td>\n",
       "      <td>На улицу и двор</td>\n",
       "      <td>Совмещенный (3)</td>\n",
       "      <td>Можно с детьми</td>\n",
       "      <td>Мебель в комнатах, Мебель на кухне, Ванна, Душ...</td>\n",
       "      <td>3.2</td>\n",
       "      <td>Пасс (1)</td>\n",
       "      <td>NaN</td>\n",
       "    </tr>\n",
       "  </tbody>\n",
       "</table>\n",
       "</div>"
      ],
      "text/plain": [
       "  Количество комнат                         Метро  \\\n",
       "0                 4  м. Смоленская (9 мин пешком)   \n",
       "1                 4  м. Смоленская (8 мин пешком)   \n",
       "2   4, Оба варианта  м. Смоленская (7 мин пешком)   \n",
       "\n",
       "                           Адрес      Площадь, м2                        Дом  \\\n",
       "0  Москва, улица Новый Арбат, 27       200.0/20.0           5/16, Монолитный   \n",
       "1  Москва, улица Новый Арбат, 27  198.0/95.0/18.0  5/16, Монолитно-кирпичный   \n",
       "2  Москва, улица Новый Арбат, 27  200.0/116.0/4.0                       5/16   \n",
       "\n",
       "    Парковка                                               Цена        Ремонт  \\\n",
       "0  подземная  500000.0 руб./ За месяц, Залог - 500000 руб., ...  Дизайнерский   \n",
       "1  подземная  500000.0 руб./ За месяц, Залог - 500000 руб., ...  Дизайнерский   \n",
       "2  подземная  500000.0 руб./ За месяц, Залог - 500000 руб., ...    Евроремонт   \n",
       "\n",
       "  Площадь комнат, м2 Балкон             Окна                          Санузел  \\\n",
       "0                NaN    NaN              NaN                              NaN   \n",
       "1        25 25 20 25    NaN  На улицу и двор  Совмещенный (2), Раздельный (1)   \n",
       "2                NaN    NaN  На улицу и двор                  Совмещенный (3)   \n",
       "\n",
       "            Можно с детьми/животными  \\\n",
       "0  Можно с детьми, Можно с животными   \n",
       "1                     Можно с детьми   \n",
       "2                     Можно с детьми   \n",
       "\n",
       "                                       Дополнительно  Высота потолков, м  \\\n",
       "0  Мебель в комнатах, Мебель на кухне, Ванна, Душ...                 3.0   \n",
       "1  Мебель в комнатах, Мебель на кухне, Ванна, Душ...                 3.5   \n",
       "2  Мебель в комнатах, Мебель на кухне, Ванна, Душ...                 3.2   \n",
       "\n",
       "                 Лифт Мусоропровод  \n",
       "0  Пасс (4), Груз (1)           Да  \n",
       "1  Пасс (1), Груз (1)          Нет  \n",
       "2            Пасс (1)          NaN  "
      ]
     },
     "execution_count": 8,
     "metadata": {},
     "output_type": "execute_result"
    }
   ],
   "source": [
    "df.head(3)"
   ]
  },
  {
   "cell_type": "markdown",
   "metadata": {},
   "source": [
    "### 2. Количество комнат: "
   ]
  },
  {
   "cell_type": "markdown",
   "metadata": {},
   "source": [
    "#### 2.1. Удалим лишние слова, и оставим только количество"
   ]
  },
  {
   "cell_type": "code",
   "execution_count": null,
   "metadata": {},
   "outputs": [],
   "source": [
    "#df['Количество комнат'].value_counts()"
   ]
  },
  {
   "cell_type": "code",
   "execution_count": null,
   "metadata": {},
   "outputs": [
    {
     "data": {
      "text/plain": [
       "dtype('O')"
      ]
     },
     "execution_count": 10,
     "metadata": {},
     "output_type": "execute_result"
    }
   ],
   "source": [
    "df['Количество комнат'] = df['Количество комнат'].astype('str')\n",
    "df['Количество комнат'].dtype"
   ]
  },
  {
   "cell_type": "code",
   "execution_count": null,
   "metadata": {},
   "outputs": [],
   "source": [
    "df[['Количество комнат', 'Тип комнат']] = df['Количество комнат'].str.split(',', expand=True)\n",
    "df.drop(columns='Тип комнат', inplace=True)"
   ]
  },
  {
   "cell_type": "markdown",
   "metadata": {},
   "source": [
    "#### 2.2. Обработаем пропуски:"
   ]
  },
  {
   "cell_type": "code",
   "execution_count": null,
   "metadata": {},
   "outputs": [
    {
     "data": {
      "text/plain": [
       "6       138\n",
       "5       367\n",
       "nan    1041\n",
       "4      1163\n",
       "3      4262\n",
       "1      7931\n",
       "2      8466\n",
       "Name: Количество комнат, dtype: int64"
      ]
     },
     "execution_count": 12,
     "metadata": {},
     "output_type": "execute_result"
    }
   ],
   "source": [
    "df['Количество комнат'].value_counts().sort_values()"
   ]
  },
  {
   "cell_type": "markdown",
   "metadata": {},
   "source": [
    "Посмотрим, какой площади соответствуют данные квартиры:"
   ]
  },
  {
   "cell_type": "code",
   "execution_count": null,
   "metadata": {},
   "outputs": [
    {
     "data": {
      "text/plain": [
       "115                41.0\n",
       "120                63.0\n",
       "270            26.0/5.0\n",
       "288                27.0\n",
       "289       27.7/13.4/6.8\n",
       "              ...      \n",
       "23334              23.0\n",
       "23348              35.0\n",
       "23353    45.0/22.0/15.0\n",
       "23362     25.0/17.0/4.0\n",
       "23363     35.0/16.4/8.0\n",
       "Name: Площадь, м2, Length: 1041, dtype: object"
      ]
     },
     "execution_count": 13,
     "metadata": {},
     "output_type": "execute_result"
    }
   ],
   "source": [
    "df[df['Количество комнат'] == 'nan']['Площадь, м2']"
   ]
  },
  {
   "cell_type": "markdown",
   "metadata": {},
   "source": [
    "Предположим, что nan имеет отношение к студиям и заменим пропущенные значения на 0."
   ]
  },
  {
   "cell_type": "code",
   "execution_count": null,
   "metadata": {},
   "outputs": [],
   "source": [
    "df['Количество комнат'] = df['Количество комнат'].replace('nan', '0')\n",
    "#df['Количество комнат'].value_counts().sort_values()"
   ]
  },
  {
   "cell_type": "markdown",
   "metadata": {},
   "source": [
    "### 3. Метро:"
   ]
  },
  {
   "cell_type": "markdown",
   "metadata": {},
   "source": [
    "Разделим на два столбца 'Метро' и 'Расстояние до метро, мин пешком':"
   ]
  },
  {
   "cell_type": "code",
   "execution_count": null,
   "metadata": {},
   "outputs": [],
   "source": [
    "df[['Метро', 'Расстояние до метро, мин пешком']] = df['Метро'].str.split('(', expand=True)\n",
    "df['Метро'] = df['Метро'].str.strip('м. ')\n",
    "df['Расстояние до метро, мин пешком'] = df['Расстояние до метро, мин пешком'].str[0]"
   ]
  },
  {
   "cell_type": "code",
   "execution_count": null,
   "metadata": {},
   "outputs": [
    {
     "data": {
      "text/plain": [
       "1    8960\n",
       "5    2140\n",
       "2    1884\n",
       "7    1514\n",
       "3    1409\n",
       "4    1365\n",
       "8    1283\n",
       "6    1244\n",
       "9    1115\n",
       "N    1040\n",
       "0      99\n",
       "Name: Расстояние до метро, мин пешком, dtype: int64"
      ]
     },
     "execution_count": 16,
     "metadata": {},
     "output_type": "execute_result"
    }
   ],
   "source": [
    "df['Расстояние до метро, мин пешком'].value_counts()"
   ]
  },
  {
   "cell_type": "code",
   "execution_count": null,
   "metadata": {},
   "outputs": [
    {
     "data": {
      "text/plain": [
       "1315"
      ]
     },
     "execution_count": 17,
     "metadata": {},
     "output_type": "execute_result"
    }
   ],
   "source": [
    "df['Расстояние до метро, мин пешком'].isna().sum()"
   ]
  },
  {
   "cell_type": "markdown",
   "metadata": {},
   "source": [
    "В столбце 'Расстояние до метро, мин пешком' заменим пропущенные значения путем заполнения медианными значениями соответствущего метро."
   ]
  },
  {
   "cell_type": "code",
   "execution_count": null,
   "metadata": {},
   "outputs": [],
   "source": [
    "df['Расстояние до метро, мин пешком'] = df['Расстояние до метро, мин пешком'].replace('N', np.nan)"
   ]
  },
  {
   "cell_type": "code",
   "execution_count": null,
   "metadata": {},
   "outputs": [
    {
     "data": {
      "text/plain": [
       "2355"
      ]
     },
     "execution_count": 19,
     "metadata": {},
     "output_type": "execute_result"
    }
   ],
   "source": [
    "df['Расстояние до метро, мин пешком'].isna().sum()"
   ]
  },
  {
   "cell_type": "code",
   "execution_count": null,
   "metadata": {},
   "outputs": [
    {
     "name": "stderr",
     "output_type": "stream",
     "text": [
      "/Library/Frameworks/Python.framework/Versions/3.10/lib/python3.10/site-packages/numpy/lib/nanfunctions.py:1215: RuntimeWarning: Mean of empty slice\n",
      "  return np.nanmean(a, axis, out=out, keepdims=keepdims)\n",
      "/Library/Frameworks/Python.framework/Versions/3.10/lib/python3.10/site-packages/numpy/lib/nanfunctions.py:1215: RuntimeWarning: Mean of empty slice\n",
      "  return np.nanmean(a, axis, out=out, keepdims=keepdims)\n"
     ]
    }
   ],
   "source": [
    "for metro in df['Метро'].unique():\n",
    "    median = df.loc[(df['Метро'] == metro), 'Расстояние до метро, мин пешком'].median()\n",
    "    df.loc[(df['Расстояние до метро, мин пешком'].isna()) & (df['Метро'] == metro), 'Расстояние до метро, мин пешком'] = median"
   ]
  },
  {
   "cell_type": "code",
   "execution_count": null,
   "metadata": {},
   "outputs": [
    {
     "data": {
      "text/plain": [
       "1317"
      ]
     },
     "execution_count": 21,
     "metadata": {},
     "output_type": "execute_result"
    }
   ],
   "source": [
    "df['Расстояние до метро, мин пешком'].isna().sum()"
   ]
  },
  {
   "cell_type": "markdown",
   "metadata": {},
   "source": [
    "Для 1317 объявлений не смогли рассчитать расстояние по медианному значению соответствующего метро."
   ]
  },
  {
   "cell_type": "markdown",
   "metadata": {},
   "source": [
    "Оставшиеся пропуски заполним просто медианой по всем объявлениям:"
   ]
  },
  {
   "cell_type": "code",
   "execution_count": null,
   "metadata": {},
   "outputs": [],
   "source": [
    "df[df['Расстояние до метро, мин пешком'].isna()] = df['Расстояние до метро, мин пешком'].median()\n",
    "#df['Расстояние до метро, мин пешком'].isna().sum()"
   ]
  },
  {
   "cell_type": "markdown",
   "metadata": {},
   "source": [
    "Приведем все значения к типу float:"
   ]
  },
  {
   "cell_type": "code",
   "execution_count": null,
   "metadata": {},
   "outputs": [],
   "source": [
    "df['Расстояние до метро, мин пешком'] = df['Расстояние до метро, мин пешком'].apply(lambda x: float(x))"
   ]
  },
  {
   "cell_type": "markdown",
   "metadata": {},
   "source": [
    "### 4. Площадь"
   ]
  },
  {
   "cell_type": "code",
   "execution_count": null,
   "metadata": {},
   "outputs": [
    {
     "data": {
      "text/plain": [
       "2.0                1317\n",
       "40.0/20.0/10.0      223\n",
       "45.0/30.0/6.0       107\n",
       "40.0                 99\n",
       "40.0/20.0/9.0        77\n",
       "                   ... \n",
       "302.9                 1\n",
       "127.0/69.4/14.0       1\n",
       "95.0/73.0/12.0        1\n",
       "97.0/51.0/12.0        1\n",
       "90.0/48.2/15.5        1\n",
       "Name: Площадь, м2, Length: 10860, dtype: int64"
      ]
     },
     "execution_count": 24,
     "metadata": {},
     "output_type": "execute_result"
    }
   ],
   "source": [
    "df['Площадь, м2'].value_counts()"
   ]
  },
  {
   "cell_type": "markdown",
   "metadata": {},
   "source": [
    "Предположим, что значения предствляют из себя 'Общая площадь'/'Жилая площадь'/'Площадь кухни', разделим на соответствующие столбцы:"
   ]
  },
  {
   "cell_type": "code",
   "execution_count": null,
   "metadata": {},
   "outputs": [],
   "source": [
    "df[['Общая площадь', 'Жилая площадь', 'Площадь кухни']] = df['Площадь, м2'].str.split('/', expand=True)"
   ]
  },
  {
   "cell_type": "markdown",
   "metadata": {},
   "source": [
    "Из-за очевидной высокой корреляции и наличии большого количества пропусков дропнем столбцы 'Жилая площадь' и 'Площадь кухни', и изначальную 'Площадь, м2'."
   ]
  },
  {
   "cell_type": "code",
   "execution_count": null,
   "metadata": {},
   "outputs": [],
   "source": [
    "df.drop(columns=['Жилая площадь', 'Площадь кухни', 'Площадь, м2'], inplace=True)"
   ]
  },
  {
   "cell_type": "markdown",
   "metadata": {},
   "source": [
    "Приведем значения к типу float:"
   ]
  },
  {
   "cell_type": "code",
   "execution_count": null,
   "metadata": {},
   "outputs": [],
   "source": [
    "df['Общая площадь'] = df['Общая площадь'].apply(lambda x: float(x))"
   ]
  },
  {
   "cell_type": "markdown",
   "metadata": {},
   "source": [
    "### 5. Дом"
   ]
  },
  {
   "cell_type": "markdown",
   "metadata": {},
   "source": [
    "Разделим столбец на 'Этаж' и 'Тип дома'."
   ]
  },
  {
   "cell_type": "code",
   "execution_count": null,
   "metadata": {},
   "outputs": [],
   "source": [
    "df[['Этаж', 'Тип дома']] = df['Дом'].str.split(',', expand=True)\n",
    "df.drop(columns='Дом', inplace=True)"
   ]
  },
  {
   "cell_type": "markdown",
   "metadata": {},
   "source": [
    "Проверим объявления без типа дома:"
   ]
  },
  {
   "cell_type": "code",
   "execution_count": null,
   "metadata": {},
   "outputs": [
    {
     "data": {
      "text/plain": [
       "(4860, 19)"
      ]
     },
     "execution_count": 29,
     "metadata": {},
     "output_type": "execute_result"
    }
   ],
   "source": [
    "df[df['Тип дома'].isna()].shape"
   ]
  },
  {
   "cell_type": "markdown",
   "metadata": {},
   "source": [
    "Заполним пропуски по адресу дома:"
   ]
  },
  {
   "cell_type": "code",
   "execution_count": null,
   "metadata": {},
   "outputs": [],
   "source": []
  },
  {
   "cell_type": "markdown",
   "metadata": {},
   "source": [
    "### 6. Парковка"
   ]
  },
  {
   "cell_type": "code",
   "execution_count": null,
   "metadata": {},
   "outputs": [
    {
     "data": {
      "text/plain": [
       "наземная          5746\n",
       "подземная         2735\n",
       "2.0               1317\n",
       "открытая          1002\n",
       "многоуровневая     110\n",
       "на крыше             1\n",
       "Name: Парковка, dtype: int64"
      ]
     },
     "execution_count": 30,
     "metadata": {},
     "output_type": "execute_result"
    }
   ],
   "source": [
    "df['Парковка'].value_counts()"
   ]
  },
  {
   "cell_type": "code",
   "execution_count": null,
   "metadata": {},
   "outputs": [],
   "source": [
    "\n"
   ]
  },
  {
   "cell_type": "markdown",
   "metadata": {},
   "source": [
    "### 7. Мусоропровод"
   ]
  },
  {
   "cell_type": "code",
   "execution_count": null,
   "metadata": {},
   "outputs": [
    {
     "data": {
      "text/plain": [
       "Да     10540\n",
       "Нет     1683\n",
       "2.0     1317\n",
       "Name: Мусоропровод, dtype: int64"
      ]
     },
     "execution_count": 31,
     "metadata": {},
     "output_type": "execute_result"
    }
   ],
   "source": [
    "df['Мусоропровод'].value_counts()"
   ]
  },
  {
   "cell_type": "markdown",
   "metadata": {},
   "source": [
    "Заменим значения 'Да' и '2.0' на 1 (True), и 'Нет' на 0 (False). Отсутствующие значения на 0."
   ]
  },
  {
   "cell_type": "code",
   "execution_count": null,
   "metadata": {},
   "outputs": [],
   "source": [
    "df['Мусоропровод'] = df['Мусоропровод'].replace(['Да', 'Нет', 2.0], [1, 0, 1])\n",
    "df['Мусоропровод'] = df['Мусоропровод'].fillna(0)"
   ]
  },
  {
   "cell_type": "code",
   "execution_count": null,
   "metadata": {},
   "outputs": [
    {
     "data": {
      "text/plain": [
       "1.0    11857\n",
       "0.0    11511\n",
       "Name: Мусоропровод, dtype: int64"
      ]
     },
     "execution_count": 38,
     "metadata": {},
     "output_type": "execute_result"
    }
   ],
   "source": [
    "df['Мусоропровод'].value_counts()"
   ]
  },
  {
   "cell_type": "code",
   "execution_count": null,
   "metadata": {},
   "outputs": [],
   "source": []
  },
  {
   "cell_type": "code",
   "execution_count": null,
   "metadata": {},
   "outputs": [],
   "source": []
  },
  {
   "cell_type": "code",
   "execution_count": null,
   "metadata": {},
   "outputs": [],
   "source": []
  },
  {
   "cell_type": "code",
   "execution_count": null,
   "metadata": {},
   "outputs": [],
   "source": []
  },
  {
   "cell_type": "code",
   "execution_count": null,
   "metadata": {},
   "outputs": [],
   "source": []
  },
  {
   "cell_type": "code",
   "execution_count": null,
   "metadata": {},
   "outputs": [
    {
     "data": {
      "text/html": [
       "<div>\n",
       "<style scoped>\n",
       "    .dataframe tbody tr th:only-of-type {\n",
       "        vertical-align: middle;\n",
       "    }\n",
       "\n",
       "    .dataframe tbody tr th {\n",
       "        vertical-align: top;\n",
       "    }\n",
       "\n",
       "    .dataframe thead th {\n",
       "        text-align: right;\n",
       "    }\n",
       "</style>\n",
       "<table border=\"1\" class=\"dataframe\">\n",
       "  <thead>\n",
       "    <tr style=\"text-align: right;\">\n",
       "      <th></th>\n",
       "      <th>Количество комнат</th>\n",
       "      <th>Метро</th>\n",
       "      <th>Адрес</th>\n",
       "      <th>Парковка</th>\n",
       "      <th>Цена</th>\n",
       "      <th>Ремонт</th>\n",
       "      <th>Площадь комнат, м2</th>\n",
       "      <th>Балкон</th>\n",
       "      <th>Окна</th>\n",
       "      <th>Санузел</th>\n",
       "      <th>Можно с детьми/животными</th>\n",
       "      <th>Дополнительно</th>\n",
       "      <th>Высота потолков, м</th>\n",
       "      <th>Лифт</th>\n",
       "      <th>Мусоропровод</th>\n",
       "      <th>Расстояние до метро, мин пешком</th>\n",
       "      <th>Общая площадь</th>\n",
       "      <th>Этаж</th>\n",
       "      <th>Тип дома</th>\n",
       "    </tr>\n",
       "  </thead>\n",
       "  <tbody>\n",
       "    <tr>\n",
       "      <th>0</th>\n",
       "      <td>4</td>\n",
       "      <td>Смоленская</td>\n",
       "      <td>Москва, улица Новый Арбат, 27</td>\n",
       "      <td>подземная</td>\n",
       "      <td>500000.0 руб./ За месяц, Залог - 500000 руб., ...</td>\n",
       "      <td>Дизайнерский</td>\n",
       "      <td>NaN</td>\n",
       "      <td>NaN</td>\n",
       "      <td>NaN</td>\n",
       "      <td>NaN</td>\n",
       "      <td>Можно с детьми, Можно с животными</td>\n",
       "      <td>Мебель в комнатах, Мебель на кухне, Ванна, Душ...</td>\n",
       "      <td>3.0</td>\n",
       "      <td>Пасс (4), Груз (1)</td>\n",
       "      <td>1.0</td>\n",
       "      <td>9.0</td>\n",
       "      <td>200.0</td>\n",
       "      <td>5/16</td>\n",
       "      <td>Монолитный</td>\n",
       "    </tr>\n",
       "    <tr>\n",
       "      <th>1</th>\n",
       "      <td>4</td>\n",
       "      <td>Смоленская</td>\n",
       "      <td>Москва, улица Новый Арбат, 27</td>\n",
       "      <td>подземная</td>\n",
       "      <td>500000.0 руб./ За месяц, Залог - 500000 руб., ...</td>\n",
       "      <td>Дизайнерский</td>\n",
       "      <td>25 25 20 25</td>\n",
       "      <td>NaN</td>\n",
       "      <td>На улицу и двор</td>\n",
       "      <td>Совмещенный (2), Раздельный (1)</td>\n",
       "      <td>Можно с детьми</td>\n",
       "      <td>Мебель в комнатах, Мебель на кухне, Ванна, Душ...</td>\n",
       "      <td>3.5</td>\n",
       "      <td>Пасс (1), Груз (1)</td>\n",
       "      <td>0.0</td>\n",
       "      <td>8.0</td>\n",
       "      <td>198.0</td>\n",
       "      <td>5/16</td>\n",
       "      <td>Монолитно-кирпичный</td>\n",
       "    </tr>\n",
       "    <tr>\n",
       "      <th>2</th>\n",
       "      <td>4</td>\n",
       "      <td>Смоленская</td>\n",
       "      <td>Москва, улица Новый Арбат, 27</td>\n",
       "      <td>подземная</td>\n",
       "      <td>500000.0 руб./ За месяц, Залог - 500000 руб., ...</td>\n",
       "      <td>Евроремонт</td>\n",
       "      <td>NaN</td>\n",
       "      <td>NaN</td>\n",
       "      <td>На улицу и двор</td>\n",
       "      <td>Совмещенный (3)</td>\n",
       "      <td>Можно с детьми</td>\n",
       "      <td>Мебель в комнатах, Мебель на кухне, Ванна, Душ...</td>\n",
       "      <td>3.2</td>\n",
       "      <td>Пасс (1)</td>\n",
       "      <td>0.0</td>\n",
       "      <td>7.0</td>\n",
       "      <td>200.0</td>\n",
       "      <td>5/16</td>\n",
       "      <td>None</td>\n",
       "    </tr>\n",
       "  </tbody>\n",
       "</table>\n",
       "</div>"
      ],
      "text/plain": [
       "  Количество комнат       Метро                          Адрес   Парковка  \\\n",
       "0                 4  Смоленская  Москва, улица Новый Арбат, 27  подземная   \n",
       "1                 4  Смоленская  Москва, улица Новый Арбат, 27  подземная   \n",
       "2                 4  Смоленская  Москва, улица Новый Арбат, 27  подземная   \n",
       "\n",
       "                                                Цена        Ремонт  \\\n",
       "0  500000.0 руб./ За месяц, Залог - 500000 руб., ...  Дизайнерский   \n",
       "1  500000.0 руб./ За месяц, Залог - 500000 руб., ...  Дизайнерский   \n",
       "2  500000.0 руб./ За месяц, Залог - 500000 руб., ...    Евроремонт   \n",
       "\n",
       "  Площадь комнат, м2 Балкон             Окна                          Санузел  \\\n",
       "0                NaN    NaN              NaN                              NaN   \n",
       "1        25 25 20 25    NaN  На улицу и двор  Совмещенный (2), Раздельный (1)   \n",
       "2                NaN    NaN  На улицу и двор                  Совмещенный (3)   \n",
       "\n",
       "            Можно с детьми/животными  \\\n",
       "0  Можно с детьми, Можно с животными   \n",
       "1                     Можно с детьми   \n",
       "2                     Можно с детьми   \n",
       "\n",
       "                                       Дополнительно  Высота потолков, м  \\\n",
       "0  Мебель в комнатах, Мебель на кухне, Ванна, Душ...                 3.0   \n",
       "1  Мебель в комнатах, Мебель на кухне, Ванна, Душ...                 3.5   \n",
       "2  Мебель в комнатах, Мебель на кухне, Ванна, Душ...                 3.2   \n",
       "\n",
       "                 Лифт  Мусоропровод  Расстояние до метро, мин пешком  \\\n",
       "0  Пасс (4), Груз (1)           1.0                              9.0   \n",
       "1  Пасс (1), Груз (1)           0.0                              8.0   \n",
       "2            Пасс (1)           0.0                              7.0   \n",
       "\n",
       "   Общая площадь  Этаж              Тип дома  \n",
       "0          200.0  5/16            Монолитный  \n",
       "1          198.0  5/16   Монолитно-кирпичный  \n",
       "2          200.0  5/16                  None  "
      ]
     },
     "execution_count": 34,
     "metadata": {},
     "output_type": "execute_result"
    }
   ],
   "source": [
    "df.head(3)"
   ]
  },
  {
   "cell_type": "markdown",
   "metadata": {},
   "source": [
    "В самом конце \n",
    "\n",
    "- переведем названия колонок на английском языке в одно или несколько слов с нижним подчёркиванием\n",
    "\n",
    "- проверим что все значения внутри данных должны быть только численного типа (int или float)"
   ]
  },
  {
   "cell_type": "code",
   "execution_count": null,
   "metadata": {},
   "outputs": [],
   "source": []
  },
  {
   "cell_type": "code",
   "execution_count": null,
   "metadata": {},
   "outputs": [],
   "source": []
  }
 ],
 "metadata": {
  "kernelspec": {
   "display_name": "Python 3.10.1 64-bit",
   "language": "python",
   "name": "python3"
  },
  "language_info": {
   "codemirror_mode": {
    "name": "ipython",
    "version": 3
   },
   "file_extension": ".py",
   "mimetype": "text/x-python",
   "name": "python",
   "nbconvert_exporter": "python",
   "pygments_lexer": "ipython3",
   "version": "3.10.1"
  },
  "vscode": {
   "interpreter": {
    "hash": "949777d72b0d2535278d3dc13498b2535136f6dfe0678499012e853ee9abcab1"
   }
  }
 },
 "nbformat": 4,
 "nbformat_minor": 2
}
