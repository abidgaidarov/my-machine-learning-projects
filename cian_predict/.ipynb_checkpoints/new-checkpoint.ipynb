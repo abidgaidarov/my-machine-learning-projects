{
 "cells": [
  {
   "cell_type": "markdown",
   "metadata": {},
   "source": [
    "## Импортируем необходимые библиотеки."
   ]
  },
  {
   "cell_type": "code",
   "execution_count": 1,
   "metadata": {},
   "outputs": [],
   "source": [
    "import pandas as pd\n",
    "import numpy as np"
   ]
  },
  {
   "cell_type": "markdown",
   "metadata": {},
   "source": [
    "## Прочитаем датасет в переменную."
   ]
  },
  {
   "cell_type": "code",
   "execution_count": 2,
   "metadata": {},
   "outputs": [],
   "source": [
    "df = pd.read_csv('cian_dataset.csv')\n",
    "pd.options.display.max_columns = None"
   ]
  },
  {
   "cell_type": "markdown",
   "metadata": {},
   "source": [
    "## Проанализируем датасет."
   ]
  },
  {
   "cell_type": "code",
   "execution_count": 3,
   "metadata": {},
   "outputs": [
    {
     "data": {
      "text/html": [
       "<div>\n",
       "<style scoped>\n",
       "    .dataframe tbody tr th:only-of-type {\n",
       "        vertical-align: middle;\n",
       "    }\n",
       "\n",
       "    .dataframe tbody tr th {\n",
       "        vertical-align: top;\n",
       "    }\n",
       "\n",
       "    .dataframe thead th {\n",
       "        text-align: right;\n",
       "    }\n",
       "</style>\n",
       "<table border=\"1\" class=\"dataframe\">\n",
       "  <thead>\n",
       "    <tr style=\"text-align: right;\">\n",
       "      <th></th>\n",
       "      <th>Unnamed: 0</th>\n",
       "      <th>ID  объявления</th>\n",
       "      <th>Количество комнат</th>\n",
       "      <th>Тип</th>\n",
       "      <th>Метро</th>\n",
       "      <th>Адрес</th>\n",
       "      <th>Площадь, м2</th>\n",
       "      <th>Дом</th>\n",
       "      <th>Парковка</th>\n",
       "      <th>Цена</th>\n",
       "      <th>Телефоны</th>\n",
       "      <th>Описание</th>\n",
       "      <th>Ремонт</th>\n",
       "      <th>Площадь комнат, м2</th>\n",
       "      <th>Балкон</th>\n",
       "      <th>Окна</th>\n",
       "      <th>Санузел</th>\n",
       "      <th>Можно с детьми/животными</th>\n",
       "      <th>Дополнительно</th>\n",
       "      <th>Название ЖК</th>\n",
       "      <th>Серия дома</th>\n",
       "      <th>Высота потолков, м</th>\n",
       "      <th>Лифт</th>\n",
       "      <th>Мусоропровод</th>\n",
       "      <th>Ссылка на объявление</th>\n",
       "    </tr>\n",
       "  </thead>\n",
       "  <tbody>\n",
       "    <tr>\n",
       "      <th>0</th>\n",
       "      <td>0</td>\n",
       "      <td>271271157</td>\n",
       "      <td>4</td>\n",
       "      <td>Квартира</td>\n",
       "      <td>м. Смоленская (9 мин пешком)</td>\n",
       "      <td>Москва, улица Новый Арбат, 27</td>\n",
       "      <td>200.0/20.0</td>\n",
       "      <td>5/16, Монолитный</td>\n",
       "      <td>подземная</td>\n",
       "      <td>500000.0 руб./ За месяц, Залог - 500000 руб., ...</td>\n",
       "      <td>+79166369231</td>\n",
       "      <td>Без комиссии для нанимателя! Бонус коллегам 12...</td>\n",
       "      <td>Дизайнерский</td>\n",
       "      <td>NaN</td>\n",
       "      <td>NaN</td>\n",
       "      <td>NaN</td>\n",
       "      <td>NaN</td>\n",
       "      <td>Можно с детьми, Можно с животными</td>\n",
       "      <td>Мебель в комнатах, Мебель на кухне, Ванна, Душ...</td>\n",
       "      <td>Новый Арбат, 2010</td>\n",
       "      <td>NaN</td>\n",
       "      <td>3.0</td>\n",
       "      <td>Пасс (4), Груз (1)</td>\n",
       "      <td>Да</td>\n",
       "      <td>https://www.cian.ru/rent/flat/271271157</td>\n",
       "    </tr>\n",
       "    <tr>\n",
       "      <th>1</th>\n",
       "      <td>1</td>\n",
       "      <td>271634126</td>\n",
       "      <td>4</td>\n",
       "      <td>Квартира</td>\n",
       "      <td>м. Смоленская (8 мин пешком)</td>\n",
       "      <td>Москва, улица Новый Арбат, 27</td>\n",
       "      <td>198.0/95.0/18.0</td>\n",
       "      <td>5/16, Монолитно-кирпичный</td>\n",
       "      <td>подземная</td>\n",
       "      <td>500000.0 руб./ За месяц, Залог - 500000 руб., ...</td>\n",
       "      <td>+79850608590</td>\n",
       "      <td>Лот 93107. Елена Анисимова.\\n\\nБонус агенту 50...</td>\n",
       "      <td>Дизайнерский</td>\n",
       "      <td>25 25 20 25</td>\n",
       "      <td>NaN</td>\n",
       "      <td>На улицу и двор</td>\n",
       "      <td>Совмещенный (2), Раздельный (1)</td>\n",
       "      <td>Можно с детьми</td>\n",
       "      <td>Мебель в комнатах, Мебель на кухне, Ванна, Душ...</td>\n",
       "      <td>Новый Арбат</td>\n",
       "      <td>NaN</td>\n",
       "      <td>3.5</td>\n",
       "      <td>Пасс (1), Груз (1)</td>\n",
       "      <td>Нет</td>\n",
       "      <td>https://www.cian.ru/rent/flat/271634126</td>\n",
       "    </tr>\n",
       "    <tr>\n",
       "      <th>2</th>\n",
       "      <td>2</td>\n",
       "      <td>271173086</td>\n",
       "      <td>4, Оба варианта</td>\n",
       "      <td>Квартира</td>\n",
       "      <td>м. Смоленская (7 мин пешком)</td>\n",
       "      <td>Москва, улица Новый Арбат, 27</td>\n",
       "      <td>200.0/116.0/4.0</td>\n",
       "      <td>5/16</td>\n",
       "      <td>подземная</td>\n",
       "      <td>500000.0 руб./ За месяц, Залог - 500000 руб., ...</td>\n",
       "      <td>+79672086536, +79099269384</td>\n",
       "      <td>ID 36380:  Шикарная 4-х км. квартира в ЖК \"Нов...</td>\n",
       "      <td>Евроремонт</td>\n",
       "      <td>NaN</td>\n",
       "      <td>NaN</td>\n",
       "      <td>На улицу и двор</td>\n",
       "      <td>Совмещенный (3)</td>\n",
       "      <td>Можно с детьми</td>\n",
       "      <td>Мебель в комнатах, Мебель на кухне, Ванна, Душ...</td>\n",
       "      <td>Новый Арбат</td>\n",
       "      <td>NaN</td>\n",
       "      <td>3.2</td>\n",
       "      <td>Пасс (1)</td>\n",
       "      <td>NaN</td>\n",
       "      <td>https://www.cian.ru/rent/flat/271173086</td>\n",
       "    </tr>\n",
       "  </tbody>\n",
       "</table>\n",
       "</div>"
      ],
      "text/plain": [
       "   Unnamed: 0  ID  объявления Количество комнат       Тип  \\\n",
       "0           0       271271157                 4  Квартира   \n",
       "1           1       271634126                 4  Квартира   \n",
       "2           2       271173086   4, Оба варианта  Квартира   \n",
       "\n",
       "                          Метро                          Адрес  \\\n",
       "0  м. Смоленская (9 мин пешком)  Москва, улица Новый Арбат, 27   \n",
       "1  м. Смоленская (8 мин пешком)  Москва, улица Новый Арбат, 27   \n",
       "2  м. Смоленская (7 мин пешком)  Москва, улица Новый Арбат, 27   \n",
       "\n",
       "       Площадь, м2                        Дом   Парковка  \\\n",
       "0       200.0/20.0           5/16, Монолитный  подземная   \n",
       "1  198.0/95.0/18.0  5/16, Монолитно-кирпичный  подземная   \n",
       "2  200.0/116.0/4.0                       5/16  подземная   \n",
       "\n",
       "                                                Цена  \\\n",
       "0  500000.0 руб./ За месяц, Залог - 500000 руб., ...   \n",
       "1  500000.0 руб./ За месяц, Залог - 500000 руб., ...   \n",
       "2  500000.0 руб./ За месяц, Залог - 500000 руб., ...   \n",
       "\n",
       "                     Телефоны  \\\n",
       "0                +79166369231   \n",
       "1                +79850608590   \n",
       "2  +79672086536, +79099269384   \n",
       "\n",
       "                                            Описание        Ремонт  \\\n",
       "0  Без комиссии для нанимателя! Бонус коллегам 12...  Дизайнерский   \n",
       "1  Лот 93107. Елена Анисимова.\\n\\nБонус агенту 50...  Дизайнерский   \n",
       "2  ID 36380:  Шикарная 4-х км. квартира в ЖК \"Нов...    Евроремонт   \n",
       "\n",
       "  Площадь комнат, м2 Балкон             Окна                          Санузел  \\\n",
       "0                NaN    NaN              NaN                              NaN   \n",
       "1        25 25 20 25    NaN  На улицу и двор  Совмещенный (2), Раздельный (1)   \n",
       "2                NaN    NaN  На улицу и двор                  Совмещенный (3)   \n",
       "\n",
       "            Можно с детьми/животными  \\\n",
       "0  Можно с детьми, Можно с животными   \n",
       "1                     Можно с детьми   \n",
       "2                     Можно с детьми   \n",
       "\n",
       "                                       Дополнительно        Название ЖК  \\\n",
       "0  Мебель в комнатах, Мебель на кухне, Ванна, Душ...  Новый Арбат, 2010   \n",
       "1  Мебель в комнатах, Мебель на кухне, Ванна, Душ...        Новый Арбат   \n",
       "2  Мебель в комнатах, Мебель на кухне, Ванна, Душ...        Новый Арбат   \n",
       "\n",
       "  Серия дома  Высота потолков, м                Лифт Мусоропровод  \\\n",
       "0        NaN                 3.0  Пасс (4), Груз (1)           Да   \n",
       "1        NaN                 3.5  Пасс (1), Груз (1)          Нет   \n",
       "2        NaN                 3.2            Пасс (1)          NaN   \n",
       "\n",
       "                      Ссылка на объявление  \n",
       "0  https://www.cian.ru/rent/flat/271271157  \n",
       "1  https://www.cian.ru/rent/flat/271634126  \n",
       "2  https://www.cian.ru/rent/flat/271173086  "
      ]
     },
     "execution_count": 3,
     "metadata": {},
     "output_type": "execute_result"
    }
   ],
   "source": [
    "df.head(3)"
   ]
  },
  {
   "cell_type": "code",
   "execution_count": 4,
   "metadata": {},
   "outputs": [
    {
     "name": "stdout",
     "output_type": "stream",
     "text": [
      "<class 'pandas.core.frame.DataFrame'>\n",
      "RangeIndex: 23368 entries, 0 to 23367\n",
      "Data columns (total 25 columns):\n",
      " #   Column                    Non-Null Count  Dtype  \n",
      "---  ------                    --------------  -----  \n",
      " 0   Unnamed: 0                23368 non-null  int64  \n",
      " 1   ID  объявления            23368 non-null  int64  \n",
      " 2   Количество комнат         22327 non-null  object \n",
      " 3   Тип                       23368 non-null  object \n",
      " 4   Метро                     22053 non-null  object \n",
      " 5   Адрес                     23368 non-null  object \n",
      " 6   Площадь, м2               23368 non-null  object \n",
      " 7   Дом                       23368 non-null  object \n",
      " 8   Парковка                  9951 non-null   object \n",
      " 9   Цена                      23368 non-null  object \n",
      " 10  Телефоны                  23368 non-null  object \n",
      " 11  Описание                  23368 non-null  object \n",
      " 12  Ремонт                    20613 non-null  object \n",
      " 13  Площадь комнат, м2        14458 non-null  object \n",
      " 14  Балкон                    15390 non-null  object \n",
      " 15  Окна                      16755 non-null  object \n",
      " 16  Санузел                   20696 non-null  object \n",
      " 17  Можно с детьми/животными  17272 non-null  object \n",
      " 18  Дополнительно             23011 non-null  object \n",
      " 19  Название ЖК               5848 non-null   object \n",
      " 20  Серия дома                2163 non-null   object \n",
      " 21  Высота потолков, м        11206 non-null  float64\n",
      " 22  Лифт                      17868 non-null  object \n",
      " 23  Мусоропровод              12846 non-null  object \n",
      " 24  Ссылка на объявление      23368 non-null  object \n",
      "dtypes: float64(1), int64(2), object(22)\n",
      "memory usage: 4.5+ MB\n"
     ]
    }
   ],
   "source": [
    "df.info()"
   ]
  },
  {
   "cell_type": "code",
   "execution_count": 5,
   "metadata": {},
   "outputs": [
    {
     "data": {
      "text/plain": [
       "Unnamed: 0                      0\n",
       "ID  объявления                  0\n",
       "Количество комнат            1041\n",
       "Тип                             0\n",
       "Метро                        1315\n",
       "Адрес                           0\n",
       "Площадь, м2                     0\n",
       "Дом                             0\n",
       "Парковка                    13417\n",
       "Цена                            0\n",
       "Телефоны                        0\n",
       "Описание                        0\n",
       "Ремонт                       2755\n",
       "Площадь комнат, м2           8910\n",
       "Балкон                       7978\n",
       "Окна                         6613\n",
       "Санузел                      2672\n",
       "Можно с детьми/животными     6096\n",
       "Дополнительно                 357\n",
       "Название ЖК                 17520\n",
       "Серия дома                  21205\n",
       "Высота потолков, м          12162\n",
       "Лифт                         5500\n",
       "Мусоропровод                10522\n",
       "Ссылка на объявление            0\n",
       "dtype: int64"
      ]
     },
     "execution_count": 5,
     "metadata": {},
     "output_type": "execute_result"
    }
   ],
   "source": [
    "df.isna().sum()"
   ]
  },
  {
   "cell_type": "code",
   "execution_count": 6,
   "metadata": {},
   "outputs": [
    {
     "data": {
      "text/html": [
       "<div>\n",
       "<style scoped>\n",
       "    .dataframe tbody tr th:only-of-type {\n",
       "        vertical-align: middle;\n",
       "    }\n",
       "\n",
       "    .dataframe tbody tr th {\n",
       "        vertical-align: top;\n",
       "    }\n",
       "\n",
       "    .dataframe thead th {\n",
       "        text-align: right;\n",
       "    }\n",
       "</style>\n",
       "<table border=\"1\" class=\"dataframe\">\n",
       "  <thead>\n",
       "    <tr style=\"text-align: right;\">\n",
       "      <th></th>\n",
       "      <th>Unnamed: 0</th>\n",
       "      <th>ID  объявления</th>\n",
       "      <th>Высота потолков, м</th>\n",
       "    </tr>\n",
       "  </thead>\n",
       "  <tbody>\n",
       "    <tr>\n",
       "      <th>count</th>\n",
       "      <td>23368.000000</td>\n",
       "      <td>2.336800e+04</td>\n",
       "      <td>11206.00000</td>\n",
       "    </tr>\n",
       "    <tr>\n",
       "      <th>mean</th>\n",
       "      <td>11683.500000</td>\n",
       "      <td>2.676265e+08</td>\n",
       "      <td>2.98345</td>\n",
       "    </tr>\n",
       "    <tr>\n",
       "      <th>std</th>\n",
       "      <td>6745.904881</td>\n",
       "      <td>1.876862e+07</td>\n",
       "      <td>7.61472</td>\n",
       "    </tr>\n",
       "    <tr>\n",
       "      <th>min</th>\n",
       "      <td>0.000000</td>\n",
       "      <td>1.072986e+08</td>\n",
       "      <td>1.20000</td>\n",
       "    </tr>\n",
       "    <tr>\n",
       "      <th>25%</th>\n",
       "      <td>5841.750000</td>\n",
       "      <td>2.712663e+08</td>\n",
       "      <td>2.64000</td>\n",
       "    </tr>\n",
       "    <tr>\n",
       "      <th>50%</th>\n",
       "      <td>11683.500000</td>\n",
       "      <td>2.739030e+08</td>\n",
       "      <td>2.64000</td>\n",
       "    </tr>\n",
       "    <tr>\n",
       "      <th>75%</th>\n",
       "      <td>17525.250000</td>\n",
       "      <td>2.746872e+08</td>\n",
       "      <td>2.80000</td>\n",
       "    </tr>\n",
       "    <tr>\n",
       "      <th>max</th>\n",
       "      <td>23367.000000</td>\n",
       "      <td>2.750064e+08</td>\n",
       "      <td>320.00000</td>\n",
       "    </tr>\n",
       "  </tbody>\n",
       "</table>\n",
       "</div>"
      ],
      "text/plain": [
       "         Unnamed: 0  ID  объявления  Высота потолков, м\n",
       "count  23368.000000    2.336800e+04         11206.00000\n",
       "mean   11683.500000    2.676265e+08             2.98345\n",
       "std     6745.904881    1.876862e+07             7.61472\n",
       "min        0.000000    1.072986e+08             1.20000\n",
       "25%     5841.750000    2.712663e+08             2.64000\n",
       "50%    11683.500000    2.739030e+08             2.64000\n",
       "75%    17525.250000    2.746872e+08             2.80000\n",
       "max    23367.000000    2.750064e+08           320.00000"
      ]
     },
     "execution_count": 6,
     "metadata": {},
     "output_type": "execute_result"
    }
   ],
   "source": [
    "df.describe()"
   ]
  },
  {
   "cell_type": "markdown",
   "metadata": {},
   "source": [
    "Нужно:\n",
    "- Unnamed: 0 - удалить\n",
    "- ID  объявления - удалить\n",
    "- Количество комнат - избавиться от слов и перевести в тип int (например \"4, Оба варианта\"), 1041 пропущенных значений\n",
    "- Тип - удалить, так как одно единственное значение - квартира;\n",
    "- Метро - разбить на 2 столбца, разделить метро и расстояние до него, 1315 пропущенных значений;\n",
    "- Адрес - пока выглядит ок\n",
    "- Площадь, м2 - разбить на три столбца\n",
    "- Дом - разбить на три столбца (текущий этаж, общая этажность, тип дома);\n",
    "- Парковка - 13417 пропущенных значений;\n",
    "- Цена - подумать как разбить\n",
    "- Телефоны - удалить\n",
    "- Описание - удалить\n",
    "- Ремонт - 2755 пропущенных значений;\n",
    "- Площадь комнат, м2 - удалить;\n",
    "- Балкон - разбить на балкон и лоджию (пример: \"Балкон (1), Лоджия (1)\"), 7978 пропущенных значений;\n",
    "- Окна - разбить на улицу и двор, 6613 пропущенных значений;\n",
    "- Санузел - разбить на совмещенный и раздельный, 2672 пропущенных значений;\n",
    "- Можно с детьми/животными - разбить на 3, 6096 пропущенных значений;\n",
    "- Дополнительно - слишком много всего, в первом приближении можно удалить;\n",
    "- Название ЖК - удалить, 17520 пропущенных значений;\n",
    "- Серия дома - думаю можно удалить, 21205 пропущенных значений;\n",
    "- Высота потолков, м - 12162 пропущенных значений, слишком много. Удалим столбец;\n",
    "- Лифт - удалить;\n",
    "- Мусоропровод - 10522 пропущенных значений;\n",
    "- Ссылка на объявление - удалить.       "
   ]
  },
  {
   "cell_type": "markdown",
   "metadata": {},
   "source": [
    "## Работа над датасетом."
   ]
  },
  {
   "cell_type": "markdown",
   "metadata": {},
   "source": [
    "### 1. Удалим ненужные столбцы:"
   ]
  },
  {
   "cell_type": "code",
   "execution_count": 7,
   "metadata": {},
   "outputs": [],
   "source": [
    "df.drop(columns=['Unnamed: 0', 'ID  объявления', 'Тип', 'Телефоны', 'Название ЖК', 'Серия дома', 'Ссылка на объявление', 'Описание', 'Дополнительно', 'Площадь комнат, м2', 'Лифт', 'Высота потолков, м'], axis=1, inplace=True)"
   ]
  },
  {
   "cell_type": "code",
   "execution_count": 8,
   "metadata": {},
   "outputs": [
    {
     "data": {
      "text/html": [
       "<div>\n",
       "<style scoped>\n",
       "    .dataframe tbody tr th:only-of-type {\n",
       "        vertical-align: middle;\n",
       "    }\n",
       "\n",
       "    .dataframe tbody tr th {\n",
       "        vertical-align: top;\n",
       "    }\n",
       "\n",
       "    .dataframe thead th {\n",
       "        text-align: right;\n",
       "    }\n",
       "</style>\n",
       "<table border=\"1\" class=\"dataframe\">\n",
       "  <thead>\n",
       "    <tr style=\"text-align: right;\">\n",
       "      <th></th>\n",
       "      <th>Количество комнат</th>\n",
       "      <th>Метро</th>\n",
       "      <th>Адрес</th>\n",
       "      <th>Площадь, м2</th>\n",
       "      <th>Дом</th>\n",
       "      <th>Парковка</th>\n",
       "      <th>Цена</th>\n",
       "      <th>Ремонт</th>\n",
       "      <th>Балкон</th>\n",
       "      <th>Окна</th>\n",
       "      <th>Санузел</th>\n",
       "      <th>Можно с детьми/животными</th>\n",
       "      <th>Мусоропровод</th>\n",
       "    </tr>\n",
       "  </thead>\n",
       "  <tbody>\n",
       "    <tr>\n",
       "      <th>0</th>\n",
       "      <td>4</td>\n",
       "      <td>м. Смоленская (9 мин пешком)</td>\n",
       "      <td>Москва, улица Новый Арбат, 27</td>\n",
       "      <td>200.0/20.0</td>\n",
       "      <td>5/16, Монолитный</td>\n",
       "      <td>подземная</td>\n",
       "      <td>500000.0 руб./ За месяц, Залог - 500000 руб., ...</td>\n",
       "      <td>Дизайнерский</td>\n",
       "      <td>NaN</td>\n",
       "      <td>NaN</td>\n",
       "      <td>NaN</td>\n",
       "      <td>Можно с детьми, Можно с животными</td>\n",
       "      <td>Да</td>\n",
       "    </tr>\n",
       "    <tr>\n",
       "      <th>1</th>\n",
       "      <td>4</td>\n",
       "      <td>м. Смоленская (8 мин пешком)</td>\n",
       "      <td>Москва, улица Новый Арбат, 27</td>\n",
       "      <td>198.0/95.0/18.0</td>\n",
       "      <td>5/16, Монолитно-кирпичный</td>\n",
       "      <td>подземная</td>\n",
       "      <td>500000.0 руб./ За месяц, Залог - 500000 руб., ...</td>\n",
       "      <td>Дизайнерский</td>\n",
       "      <td>NaN</td>\n",
       "      <td>На улицу и двор</td>\n",
       "      <td>Совмещенный (2), Раздельный (1)</td>\n",
       "      <td>Можно с детьми</td>\n",
       "      <td>Нет</td>\n",
       "    </tr>\n",
       "    <tr>\n",
       "      <th>2</th>\n",
       "      <td>4, Оба варианта</td>\n",
       "      <td>м. Смоленская (7 мин пешком)</td>\n",
       "      <td>Москва, улица Новый Арбат, 27</td>\n",
       "      <td>200.0/116.0/4.0</td>\n",
       "      <td>5/16</td>\n",
       "      <td>подземная</td>\n",
       "      <td>500000.0 руб./ За месяц, Залог - 500000 руб., ...</td>\n",
       "      <td>Евроремонт</td>\n",
       "      <td>NaN</td>\n",
       "      <td>На улицу и двор</td>\n",
       "      <td>Совмещенный (3)</td>\n",
       "      <td>Можно с детьми</td>\n",
       "      <td>NaN</td>\n",
       "    </tr>\n",
       "  </tbody>\n",
       "</table>\n",
       "</div>"
      ],
      "text/plain": [
       "  Количество комнат                         Метро  \\\n",
       "0                 4  м. Смоленская (9 мин пешком)   \n",
       "1                 4  м. Смоленская (8 мин пешком)   \n",
       "2   4, Оба варианта  м. Смоленская (7 мин пешком)   \n",
       "\n",
       "                           Адрес      Площадь, м2                        Дом  \\\n",
       "0  Москва, улица Новый Арбат, 27       200.0/20.0           5/16, Монолитный   \n",
       "1  Москва, улица Новый Арбат, 27  198.0/95.0/18.0  5/16, Монолитно-кирпичный   \n",
       "2  Москва, улица Новый Арбат, 27  200.0/116.0/4.0                       5/16   \n",
       "\n",
       "    Парковка                                               Цена        Ремонт  \\\n",
       "0  подземная  500000.0 руб./ За месяц, Залог - 500000 руб., ...  Дизайнерский   \n",
       "1  подземная  500000.0 руб./ За месяц, Залог - 500000 руб., ...  Дизайнерский   \n",
       "2  подземная  500000.0 руб./ За месяц, Залог - 500000 руб., ...    Евроремонт   \n",
       "\n",
       "  Балкон             Окна                          Санузел  \\\n",
       "0    NaN              NaN                              NaN   \n",
       "1    NaN  На улицу и двор  Совмещенный (2), Раздельный (1)   \n",
       "2    NaN  На улицу и двор                  Совмещенный (3)   \n",
       "\n",
       "            Можно с детьми/животными Мусоропровод  \n",
       "0  Можно с детьми, Можно с животными           Да  \n",
       "1                     Можно с детьми          Нет  \n",
       "2                     Можно с детьми          NaN  "
      ]
     },
     "execution_count": 8,
     "metadata": {},
     "output_type": "execute_result"
    }
   ],
   "source": [
    "df.head(3)"
   ]
  },
  {
   "cell_type": "markdown",
   "metadata": {},
   "source": [
    "### 2. Количество комнат: "
   ]
  },
  {
   "cell_type": "markdown",
   "metadata": {},
   "source": [
    "#### 2.1. Удалим лишние слова, и оставим только количество"
   ]
  },
  {
   "cell_type": "code",
   "execution_count": 9,
   "metadata": {},
   "outputs": [],
   "source": [
    "#df['Количество комнат'].value_counts()"
   ]
  },
  {
   "cell_type": "code",
   "execution_count": 10,
   "metadata": {},
   "outputs": [
    {
     "data": {
      "text/plain": [
       "dtype('O')"
      ]
     },
     "execution_count": 10,
     "metadata": {},
     "output_type": "execute_result"
    }
   ],
   "source": [
    "df['Количество комнат'] = df['Количество комнат'].astype('str')\n",
    "df['Количество комнат'].dtype"
   ]
  },
  {
   "cell_type": "code",
   "execution_count": 11,
   "metadata": {},
   "outputs": [],
   "source": [
    "df[['Количество комнат', 'Тип комнат']] = df['Количество комнат'].str.split(',', expand=True)\n",
    "df.drop(columns='Тип комнат', inplace=True)"
   ]
  },
  {
   "cell_type": "markdown",
   "metadata": {},
   "source": [
    "#### 2.2. Обработаем пропуски:"
   ]
  },
  {
   "cell_type": "code",
   "execution_count": 12,
   "metadata": {},
   "outputs": [
    {
     "data": {
      "text/plain": [
       "6       138\n",
       "5       367\n",
       "nan    1041\n",
       "4      1163\n",
       "3      4262\n",
       "1      7931\n",
       "2      8466\n",
       "Name: Количество комнат, dtype: int64"
      ]
     },
     "execution_count": 12,
     "metadata": {},
     "output_type": "execute_result"
    }
   ],
   "source": [
    "df['Количество комнат'].value_counts().sort_values()"
   ]
  },
  {
   "cell_type": "markdown",
   "metadata": {},
   "source": [
    "Посмотрим, какой площади соответствуют данные квартиры:"
   ]
  },
  {
   "cell_type": "code",
   "execution_count": 13,
   "metadata": {},
   "outputs": [
    {
     "data": {
      "text/plain": [
       "115                41.0\n",
       "120                63.0\n",
       "270            26.0/5.0\n",
       "288                27.0\n",
       "289       27.7/13.4/6.8\n",
       "              ...      \n",
       "23334              23.0\n",
       "23348              35.0\n",
       "23353    45.0/22.0/15.0\n",
       "23362     25.0/17.0/4.0\n",
       "23363     35.0/16.4/8.0\n",
       "Name: Площадь, м2, Length: 1041, dtype: object"
      ]
     },
     "execution_count": 13,
     "metadata": {},
     "output_type": "execute_result"
    }
   ],
   "source": [
    "df[df['Количество комнат'] == 'nan']['Площадь, м2']"
   ]
  },
  {
   "cell_type": "markdown",
   "metadata": {},
   "source": [
    "Предположим, что nan имеет отношение к студиям и заменим пропущенные значения на 0."
   ]
  },
  {
   "cell_type": "code",
   "execution_count": 14,
   "metadata": {},
   "outputs": [],
   "source": [
    "df['Количество комнат'] = df['Количество комнат'].replace('nan', '0')\n",
    "#df['Количество комнат'].value_counts().sort_values()"
   ]
  },
  {
   "cell_type": "markdown",
   "metadata": {},
   "source": [
    "### 3. Метро:"
   ]
  },
  {
   "cell_type": "markdown",
   "metadata": {},
   "source": [
    "Разделим на два столбца 'Метро' и 'Расстояние до метро, мин пешком':"
   ]
  },
  {
   "cell_type": "code",
   "execution_count": 15,
   "metadata": {},
   "outputs": [],
   "source": [
    "df[['Метро', 'Расстояние до метро, мин пешком']] = df['Метро'].str.split('(', expand=True)\n",
    "df['Метро'] = df['Метро'].str.strip('м. ')\n",
    "df['Расстояние до метро, мин пешком'] = df['Расстояние до метро, мин пешком'].str[0]"
   ]
  },
  {
   "cell_type": "code",
   "execution_count": 16,
   "metadata": {},
   "outputs": [
    {
     "data": {
      "text/plain": [
       "1    8960\n",
       "5    2140\n",
       "2    1884\n",
       "7    1514\n",
       "3    1409\n",
       "4    1365\n",
       "8    1283\n",
       "6    1244\n",
       "9    1115\n",
       "N    1040\n",
       "0      99\n",
       "Name: Расстояние до метро, мин пешком, dtype: int64"
      ]
     },
     "execution_count": 16,
     "metadata": {},
     "output_type": "execute_result"
    }
   ],
   "source": [
    "df['Расстояние до метро, мин пешком'].value_counts()"
   ]
  },
  {
   "cell_type": "code",
   "execution_count": 17,
   "metadata": {},
   "outputs": [
    {
     "data": {
      "text/plain": [
       "1315"
      ]
     },
     "execution_count": 17,
     "metadata": {},
     "output_type": "execute_result"
    }
   ],
   "source": [
    "df['Расстояние до метро, мин пешком'].isna().sum()"
   ]
  },
  {
   "cell_type": "markdown",
   "metadata": {},
   "source": [
    "В столбце 'Расстояние до метро, мин пешком' заменим пропущенные значения путем заполнения медианными значениями соответствущего метро."
   ]
  },
  {
   "cell_type": "code",
   "execution_count": 18,
   "metadata": {},
   "outputs": [],
   "source": [
    "df['Расстояние до метро, мин пешком'] = df['Расстояние до метро, мин пешком'].replace('N', np.nan)"
   ]
  },
  {
   "cell_type": "code",
   "execution_count": 19,
   "metadata": {},
   "outputs": [
    {
     "data": {
      "text/plain": [
       "2355"
      ]
     },
     "execution_count": 19,
     "metadata": {},
     "output_type": "execute_result"
    }
   ],
   "source": [
    "df['Расстояние до метро, мин пешком'].isna().sum()"
   ]
  },
  {
   "cell_type": "code",
   "execution_count": 20,
   "metadata": {},
   "outputs": [
    {
     "name": "stderr",
     "output_type": "stream",
     "text": [
      "/Library/Frameworks/Python.framework/Versions/3.10/lib/python3.10/site-packages/numpy/lib/nanfunctions.py:1215: RuntimeWarning: Mean of empty slice\n",
      "  return np.nanmean(a, axis, out=out, keepdims=keepdims)\n",
      "/Library/Frameworks/Python.framework/Versions/3.10/lib/python3.10/site-packages/numpy/lib/nanfunctions.py:1215: RuntimeWarning: Mean of empty slice\n",
      "  return np.nanmean(a, axis, out=out, keepdims=keepdims)\n"
     ]
    }
   ],
   "source": [
    "for metro in df['Метро'].unique():\n",
    "    median = df.loc[(df['Метро'] == metro), 'Расстояние до метро, мин пешком'].median()\n",
    "    df.loc[(df['Расстояние до метро, мин пешком'].isna()) & (df['Метро'] == metro), 'Расстояние до метро, мин пешком'] = median"
   ]
  },
  {
   "cell_type": "code",
   "execution_count": 21,
   "metadata": {},
   "outputs": [
    {
     "data": {
      "text/plain": [
       "1317"
      ]
     },
     "execution_count": 21,
     "metadata": {},
     "output_type": "execute_result"
    }
   ],
   "source": [
    "df['Расстояние до метро, мин пешком'].isna().sum()"
   ]
  },
  {
   "cell_type": "markdown",
   "metadata": {},
   "source": [
    "Для 1317 объявлений не смогли рассчитать расстояние по медианному значению соответствующего метро."
   ]
  },
  {
   "cell_type": "markdown",
   "metadata": {},
   "source": [
    "Оставшиеся пропуски заполним просто медианой по всем объявлениям:"
   ]
  },
  {
   "cell_type": "code",
   "execution_count": 22,
   "metadata": {},
   "outputs": [],
   "source": [
    "df[df['Расстояние до метро, мин пешком'].isna()] = df['Расстояние до метро, мин пешком'].median()\n",
    "#df['Расстояние до метро, мин пешком'].isna().sum()"
   ]
  },
  {
   "cell_type": "markdown",
   "metadata": {},
   "source": [
    "Приведем все значения к типу float:"
   ]
  },
  {
   "cell_type": "code",
   "execution_count": 23,
   "metadata": {},
   "outputs": [],
   "source": [
    "df['Расстояние до метро, мин пешком'] = df['Расстояние до метро, мин пешком'].apply(lambda x: float(x))"
   ]
  },
  {
   "cell_type": "markdown",
   "metadata": {},
   "source": [
    "### 4. Площадь"
   ]
  },
  {
   "cell_type": "code",
   "execution_count": 24,
   "metadata": {},
   "outputs": [
    {
     "data": {
      "text/plain": [
       "2.0                1317\n",
       "40.0/20.0/10.0      223\n",
       "45.0/30.0/6.0       107\n",
       "40.0                 99\n",
       "40.0/20.0/9.0        77\n",
       "                   ... \n",
       "302.9                 1\n",
       "127.0/69.4/14.0       1\n",
       "95.0/73.0/12.0        1\n",
       "97.0/51.0/12.0        1\n",
       "90.0/48.2/15.5        1\n",
       "Name: Площадь, м2, Length: 10860, dtype: int64"
      ]
     },
     "execution_count": 24,
     "metadata": {},
     "output_type": "execute_result"
    }
   ],
   "source": [
    "df['Площадь, м2'].value_counts()"
   ]
  },
  {
   "cell_type": "markdown",
   "metadata": {},
   "source": [
    "Предположим, что значения предствляют из себя 'Общая площадь'/'Жилая площадь'/'Площадь кухни', разделим на соответствующие столбцы:"
   ]
  },
  {
   "cell_type": "code",
   "execution_count": 25,
   "metadata": {},
   "outputs": [],
   "source": [
    "df[['Общая площадь', 'Жилая площадь', 'Площадь кухни']] = df['Площадь, м2'].str.split('/', expand=True)"
   ]
  },
  {
   "cell_type": "markdown",
   "metadata": {},
   "source": [
    "Из-за очевидной высокой корреляции и наличии большого количества пропусков дропнем столбцы 'Жилая площадь' и 'Площадь кухни', и изначальную 'Площадь, м2'."
   ]
  },
  {
   "cell_type": "code",
   "execution_count": 26,
   "metadata": {},
   "outputs": [],
   "source": [
    "df.drop(columns=['Жилая площадь', 'Площадь кухни', 'Площадь, м2'], inplace=True)"
   ]
  },
  {
   "cell_type": "markdown",
   "metadata": {},
   "source": [
    "Приведем значения к типу float:"
   ]
  },
  {
   "cell_type": "code",
   "execution_count": 27,
   "metadata": {},
   "outputs": [],
   "source": [
    "df['Общая площадь'] = df['Общая площадь'].apply(lambda x: float(x))"
   ]
  },
  {
   "cell_type": "markdown",
   "metadata": {},
   "source": [
    "### 5. Дом"
   ]
  },
  {
   "cell_type": "markdown",
   "metadata": {},
   "source": [
    "Разделим столбец на 'Этаж' и 'Тип дома'."
   ]
  },
  {
   "cell_type": "code",
   "execution_count": 28,
   "metadata": {},
   "outputs": [],
   "source": [
    "df[['Этаж', 'Тип дома']] = df['Дом'].str.split(',', expand=True)\n",
    "df.drop(columns='Дом', inplace=True)"
   ]
  },
  {
   "cell_type": "markdown",
   "metadata": {},
   "source": [
    "Проверим объявления без типа дома:"
   ]
  },
  {
   "cell_type": "code",
   "execution_count": 29,
   "metadata": {},
   "outputs": [
    {
     "data": {
      "text/plain": [
       "(4860, 15)"
      ]
     },
     "execution_count": 29,
     "metadata": {},
     "output_type": "execute_result"
    }
   ],
   "source": [
    "df[df['Тип дома'].isna()].shape"
   ]
  },
  {
   "cell_type": "markdown",
   "metadata": {},
   "source": [
    "Заполним пропуски по адресу дома:"
   ]
  },
  {
   "cell_type": "code",
   "execution_count": null,
   "metadata": {},
   "outputs": [],
   "source": []
  },
  {
   "cell_type": "markdown",
   "metadata": {},
   "source": [
    "### 6. Парковка"
   ]
  },
  {
   "cell_type": "code",
   "execution_count": 30,
   "metadata": {},
   "outputs": [
    {
     "data": {
      "text/plain": [
       "наземная          5746\n",
       "подземная         2735\n",
       "2.0               1317\n",
       "открытая          1002\n",
       "многоуровневая     110\n",
       "на крыше             1\n",
       "Name: Парковка, dtype: int64"
      ]
     },
     "execution_count": 30,
     "metadata": {},
     "output_type": "execute_result"
    }
   ],
   "source": [
    "df['Парковка'].value_counts()"
   ]
  },
  {
   "cell_type": "markdown",
   "metadata": {},
   "source": [
    "Если парковка есть - 1, пропущенные значения - 0."
   ]
  },
  {
   "cell_type": "code",
   "execution_count": 31,
   "metadata": {},
   "outputs": [
    {
     "data": {
      "text/plain": [
       "12457"
      ]
     },
     "execution_count": 31,
     "metadata": {},
     "output_type": "execute_result"
    }
   ],
   "source": [
    "df['Парковка'].isnull().sum()"
   ]
  },
  {
   "cell_type": "code",
   "execution_count": 32,
   "metadata": {},
   "outputs": [
    {
     "data": {
      "text/plain": [
       "0    12457\n",
       "1    10911\n",
       "Name: Парковка, dtype: int64"
      ]
     },
     "execution_count": 32,
     "metadata": {},
     "output_type": "execute_result"
    }
   ],
   "source": [
    "df.loc[df['Парковка'].isin(['наземная', 'подземная', 2.0, 'открытая', 'многоуровневая', 'на крыше']), 'Парковка'] = 1\n",
    "df.loc[df['Парковка'].isnull(), 'Парковка'] = 0\n",
    "df['Парковка'].value_counts()"
   ]
  },
  {
   "cell_type": "markdown",
   "metadata": {},
   "source": [
    "### 7. Мусоропровод"
   ]
  },
  {
   "cell_type": "code",
   "execution_count": 33,
   "metadata": {},
   "outputs": [
    {
     "data": {
      "text/plain": [
       "Да     10540\n",
       "Нет     1683\n",
       "2.0     1317\n",
       "Name: Мусоропровод, dtype: int64"
      ]
     },
     "execution_count": 33,
     "metadata": {},
     "output_type": "execute_result"
    }
   ],
   "source": [
    "df['Мусоропровод'].value_counts()"
   ]
  },
  {
   "cell_type": "markdown",
   "metadata": {},
   "source": [
    "Заменим значения 'Да' и '2.0' на 1 (True), и 'Нет' на 0 (False). Отсутствующие значения на 0."
   ]
  },
  {
   "cell_type": "code",
   "execution_count": 34,
   "metadata": {},
   "outputs": [],
   "source": [
    "df['Мусоропровод'] = df['Мусоропровод'].replace(['Да', 'Нет', 2.0], [1, 0, 1])\n",
    "df['Мусоропровод'] = df['Мусоропровод'].fillna(0)"
   ]
  },
  {
   "cell_type": "code",
   "execution_count": 35,
   "metadata": {},
   "outputs": [],
   "source": [
    "df['Мусоропровод'] = df['Мусоропровод'].apply(lambda x: int(x))\n",
    "#df['Мусоропровод'].value_counts()"
   ]
  },
  {
   "cell_type": "markdown",
   "metadata": {},
   "source": [
    "### 8. Цена"
   ]
  },
  {
   "cell_type": "code",
   "execution_count": 36,
   "metadata": {},
   "outputs": [],
   "source": [
    " #df['Цена'].value_counts()"
   ]
  },
  {
   "cell_type": "markdown",
   "metadata": {},
   "source": [
    "Разделим столбец на 'Стоимость аренды', 'Прочее', последний отбросим."
   ]
  },
  {
   "cell_type": "code",
   "execution_count": 37,
   "metadata": {},
   "outputs": [],
   "source": [
    "df[['Стоимость аренды', 'Прочее']] = df['Цена'].str.split('/', expand=True)\n",
    "df.drop(columns=['Прочее', 'Цена'], inplace=True)"
   ]
  },
  {
   "cell_type": "markdown",
   "metadata": {},
   "source": [
    "Очистим от ' руб.'"
   ]
  },
  {
   "cell_type": "code",
   "execution_count": 38,
   "metadata": {},
   "outputs": [],
   "source": [
    "df['Стоимость аренды'] = df['Стоимость аренды'].str.strip(' руб.')"
   ]
  },
  {
   "cell_type": "code",
   "execution_count": 39,
   "metadata": {},
   "outputs": [
    {
     "data": {
      "text/plain": [
       "115700.0        1\n",
       "10638.0 $       1\n",
       "1030000.0       1\n",
       "1475000.0       1\n",
       "475000.0        1\n",
       "             ... \n",
       "55000.0       950\n",
       "50000.0      1235\n",
       "35000.0      1305\n",
       "45000.0      1441\n",
       "40000.0      1483\n",
       "Name: Стоимость аренды, Length: 590, dtype: int64"
      ]
     },
     "execution_count": 39,
     "metadata": {},
     "output_type": "execute_result"
    }
   ],
   "source": [
    "df['Стоимость аренды'].value_counts().sort_values()"
   ]
  },
  {
   "cell_type": "markdown",
   "metadata": {},
   "source": [
    "Видим что остались значения в долларах и евро. Конвертируем их в рубли по курсу 65руб за $ и €."
   ]
  },
  {
   "cell_type": "code",
   "execution_count": 40,
   "metadata": {},
   "outputs": [],
   "source": [
    "df['Стоимость аренды'] = df['Стоимость аренды'].astype('str')\n",
    "\n",
    "for x in df['Стоимость аренды']:\n",
    "    if x[-1] in ['$', '€']:\n",
    "        df.loc[x, 'Стоимость аренды'] = float(''.join(x[:-4]))*65"
   ]
  },
  {
   "cell_type": "code",
   "execution_count": 41,
   "metadata": {},
   "outputs": [
    {
     "data": {
      "text/plain": [
       "1495000.0       1\n",
       "134999.0        1\n",
       "22000.0 $       1\n",
       "8081.0 €        1\n",
       "55999.0         1\n",
       "             ... \n",
       "50000.0      1235\n",
       "35000.0      1305\n",
       "nan          1317\n",
       "45000.0      1441\n",
       "40000.0      1483\n",
       "Name: Стоимость аренды, Length: 601, dtype: int64"
      ]
     },
     "execution_count": 41,
     "metadata": {},
     "output_type": "execute_result"
    }
   ],
   "source": [
    "df['Стоимость аренды'].value_counts().sort_values()"
   ]
  },
  {
   "cell_type": "markdown",
   "metadata": {},
   "source": [
    "### 9. Санузел"
   ]
  },
  {
   "cell_type": "code",
   "execution_count": 42,
   "metadata": {},
   "outputs": [],
   "source": [
    "#df['Санузел'].value_counts()"
   ]
  },
  {
   "cell_type": "code",
   "execution_count": 43,
   "metadata": {},
   "outputs": [],
   "source": [
    "t2before = df.shape[0]"
   ]
  },
  {
   "cell_type": "markdown",
   "metadata": {},
   "source": [
    "Удалим неизвестные значения '2.0'"
   ]
  },
  {
   "cell_type": "code",
   "execution_count": 44,
   "metadata": {},
   "outputs": [
    {
     "name": "stdout",
     "output_type": "stream",
     "text": [
      "Потеряли 3744 объявлений\n"
     ]
    }
   ],
   "source": [
    "df = df[df[\"Санузел\"].str.contains('2.0')==False]\n",
    "#df['Санузел'].value_counts()\n",
    "t2after = df.shape[0]\n",
    "t2 = t2before - t2after\n",
    "print(f'Потеряли {t2} объявлений')"
   ]
  },
  {
   "cell_type": "markdown",
   "metadata": {},
   "source": [
    "Разделим столбец:"
   ]
  },
  {
   "cell_type": "code",
   "execution_count": 45,
   "metadata": {},
   "outputs": [],
   "source": [
    "df[['a', 'b']] = df['Санузел'].str.split(',', expand=True)"
   ]
  },
  {
   "cell_type": "markdown",
   "metadata": {},
   "source": [
    "Заменим значения 'Совмещенный' на 0 и 'Раздельный' на 1:"
   ]
  },
  {
   "cell_type": "code",
   "execution_count": 46,
   "metadata": {},
   "outputs": [],
   "source": [
    "df['a'] = df['a'].str.split('(')\n",
    "df['a'] = df['a'].apply(lambda x: x[0])\n",
    "df['a'] = df['a'].replace(['Совмещенный ', 'Раздельный '], [0, 1])"
   ]
  },
  {
   "cell_type": "code",
   "execution_count": 47,
   "metadata": {},
   "outputs": [],
   "source": [
    "df.loc[df['b'].notnull(), 'b'] = 1\n",
    "df.loc[df['b'].isnull(), 'b'] = 0"
   ]
  },
  {
   "cell_type": "markdown",
   "metadata": {},
   "source": [
    "Сложим оба столбца (во втором только раздельный):"
   ]
  },
  {
   "cell_type": "code",
   "execution_count": 48,
   "metadata": {},
   "outputs": [],
   "source": [
    "df['c'] = df['a'].astype(float) + df['b'].astype(float)\n",
    "df['c'] = df['c'].astype(int)\n",
    "df.drop(columns=['a', 'b'], inplace=True)"
   ]
  },
  {
   "cell_type": "code",
   "execution_count": 49,
   "metadata": {},
   "outputs": [],
   "source": [
    "df = df.rename(columns={'c':'Раздельный туалет'})"
   ]
  },
  {
   "cell_type": "code",
   "execution_count": 50,
   "metadata": {},
   "outputs": [
    {
     "data": {
      "text/plain": [
       "Можно с детьми                       8570\n",
       "Можно с детьми, Можно с животными    5942\n",
       "Можно с животными                     204\n",
       "Name: Можно с детьми/животными, dtype: int64"
      ]
     },
     "execution_count": 50,
     "metadata": {},
     "output_type": "execute_result"
    }
   ],
   "source": [
    "df['Можно с детьми/животными'].value_counts()"
   ]
  },
  {
   "cell_type": "markdown",
   "metadata": {},
   "source": [
    "### 10. Можно с детьми/животными"
   ]
  },
  {
   "cell_type": "markdown",
   "metadata": {},
   "source": [
    "Применим метод get_dummies:"
   ]
  },
  {
   "cell_type": "code",
   "execution_count": 51,
   "metadata": {},
   "outputs": [],
   "source": [
    "df = pd.get_dummies(df, columns=['Можно с детьми/животными'])"
   ]
  },
  {
   "cell_type": "code",
   "execution_count": 52,
   "metadata": {},
   "outputs": [],
   "source": [
    "df = df.rename(columns={'Можно с детьми/животными_Можно с детьми':'Можно с д',\n",
    "                       'Можно с детьми/животными_Можно с детьми, Можно с животными':'Можно с д+ж',\n",
    "                       'Можно с детьми/животными_Можно с животными':'Можно с ж'})"
   ]
  },
  {
   "cell_type": "markdown",
   "metadata": {},
   "source": [
    "### 11. Окна"
   ]
  },
  {
   "cell_type": "markdown",
   "metadata": {},
   "source": [
    "Применим метод get_dummies:"
   ]
  },
  {
   "cell_type": "code",
   "execution_count": 53,
   "metadata": {},
   "outputs": [],
   "source": [
    "df = pd.get_dummies(df, columns=['Окна'])"
   ]
  },
  {
   "cell_type": "code",
   "execution_count": 54,
   "metadata": {},
   "outputs": [],
   "source": [
    "df = df.rename(columns={'Окна_Во двор':'Окна во д',\n",
    "                       'Окна_На улицу':'Окна на у',\n",
    "                       'Окна_На улицу и двор':'Окна д+у'})"
   ]
  },
  {
   "cell_type": "markdown",
   "metadata": {},
   "source": [
    "### 12. Ремонт"
   ]
  },
  {
   "cell_type": "code",
   "execution_count": 55,
   "metadata": {},
   "outputs": [
    {
     "data": {
      "text/plain": [
       "Евроремонт       7223\n",
       "Косметический    7021\n",
       "Дизайнерский     2759\n",
       "Без ремонта       121\n",
       "Name: Ремонт, dtype: int64"
      ]
     },
     "execution_count": 55,
     "metadata": {},
     "output_type": "execute_result"
    }
   ],
   "source": [
    "df['Ремонт'].value_counts()"
   ]
  },
  {
   "cell_type": "code",
   "execution_count": 56,
   "metadata": {},
   "outputs": [],
   "source": [
    "#df['Ремонт'].isna().sum()"
   ]
  },
  {
   "cell_type": "markdown",
   "metadata": {},
   "source": [
    "Удалим строки без информации о ремонте:"
   ]
  },
  {
   "cell_type": "code",
   "execution_count": 57,
   "metadata": {},
   "outputs": [
    {
     "name": "stdout",
     "output_type": "stream",
     "text": [
      "Потеряли 2511 объявлений\n"
     ]
    }
   ],
   "source": [
    "rbefore = df.shape[0]\n",
    "df = df.dropna(subset = ['Ремонт'], axis=0)\n",
    "rafter = df.shape[0]\n",
    "r = rbefore - rafter\n",
    "print(f'Потеряли {r} объявлений')"
   ]
  },
  {
   "cell_type": "markdown",
   "metadata": {},
   "source": [
    "Заменим значения 'Без ремонта' на 0. "
   ]
  },
  {
   "cell_type": "code",
   "execution_count": 58,
   "metadata": {},
   "outputs": [],
   "source": [
    "df.loc[df['Ремонт'] == 'Без ремонта', 'Ремонт'] = 0"
   ]
  },
  {
   "cell_type": "markdown",
   "metadata": {},
   "source": [
    "Применим метод get_dummies:"
   ]
  },
  {
   "cell_type": "code",
   "execution_count": 59,
   "metadata": {},
   "outputs": [],
   "source": [
    "df = pd.get_dummies(df, columns=['Ремонт'])"
   ]
  },
  {
   "cell_type": "code",
   "execution_count": 60,
   "metadata": {},
   "outputs": [],
   "source": [
    "df = df.rename(columns={'Ремонт_Дизайнерский':'Ремонт д',\n",
    "                       'Ремонт_Евроремонт':'Ремонт е',\n",
    "                       'Ремонт_Косметический':'Ремонт к'})\n",
    "df = df.drop(columns='Ремонт_0')"
   ]
  },
  {
   "cell_type": "markdown",
   "metadata": {},
   "source": [
    "### 13.  Балкон"
   ]
  },
  {
   "cell_type": "code",
   "execution_count": 61,
   "metadata": {},
   "outputs": [
    {
     "data": {
      "text/plain": [
       "Балкон (1)                5476\n",
       "Лоджия (1)                4855\n",
       "Балкон (1), Лоджия (1)     556\n",
       "Лоджия (2)                 433\n",
       "Балкон (2)                 329\n",
       "Балкон (3)                  39\n",
       "Лоджия (3)                  37\n",
       "Балкон (1), Лоджия (2)      20\n",
       "Балкон (2), Лоджия (2)      19\n",
       "Балкон (2), Лоджия (1)      14\n",
       "Балкон (3), Лоджия (1)       4\n",
       "Балкон (1), Лоджия (3)       4\n",
       "Лоджия (4)                   3\n",
       "Балкон (4)                   3\n",
       "Балкон (2), Лоджия (3)       2\n",
       "Балкон (3), Лоджия (3)       1\n",
       "Балкон (4), Лоджия (4)       1\n",
       "Балкон (1), Лоджия (4)       1\n",
       "Name: Балкон, dtype: int64"
      ]
     },
     "execution_count": 61,
     "metadata": {},
     "output_type": "execute_result"
    }
   ],
   "source": [
    "df['Балкон'].value_counts()"
   ]
  },
  {
   "cell_type": "code",
   "execution_count": 62,
   "metadata": {},
   "outputs": [
    {
     "data": {
      "text/plain": [
       "5327"
      ]
     },
     "execution_count": 62,
     "metadata": {},
     "output_type": "execute_result"
    }
   ],
   "source": [
    "df['Балкон'].isna().sum()"
   ]
  },
  {
   "cell_type": "markdown",
   "metadata": {},
   "source": [
    "Предположим что отсутствующие значения означают отсутствие балкона. Заменим эти значения на ноль."
   ]
  },
  {
   "cell_type": "code",
   "execution_count": 63,
   "metadata": {},
   "outputs": [],
   "source": [
    "df['Балкон'] = df['Балкон'].fillna(0)"
   ]
  },
  {
   "cell_type": "markdown",
   "metadata": {},
   "source": [
    "Разделим столбец:"
   ]
  },
  {
   "cell_type": "code",
   "execution_count": 64,
   "metadata": {},
   "outputs": [
    {
     "data": {
      "text/plain": [
       "Балкон (1)                5476\n",
       "0                         5327\n",
       "Лоджия (1)                4855\n",
       "Балкон (1), Лоджия (1)     556\n",
       "Лоджия (2)                 433\n",
       "Балкон (2)                 329\n",
       "Балкон (3)                  39\n",
       "Лоджия (3)                  37\n",
       "Балкон (1), Лоджия (2)      20\n",
       "Балкон (2), Лоджия (2)      19\n",
       "Балкон (2), Лоджия (1)      14\n",
       "Балкон (1), Лоджия (3)       4\n",
       "Балкон (3), Лоджия (1)       4\n",
       "Лоджия (4)                   3\n",
       "Балкон (4)                   3\n",
       "Балкон (2), Лоджия (3)       2\n",
       "Балкон (3), Лоджия (3)       1\n",
       "Балкон (4), Лоджия (4)       1\n",
       "Балкон (1), Лоджия (4)       1\n",
       "Name: Балкон, dtype: int64"
      ]
     },
     "execution_count": 64,
     "metadata": {},
     "output_type": "execute_result"
    }
   ],
   "source": [
    "df['Балкон'].value_counts()"
   ]
  },
  {
   "cell_type": "code",
   "execution_count": 65,
   "metadata": {},
   "outputs": [],
   "source": [
    "df[['a', 'b']] = df['Балкон'].str.split(', ', expand=True)"
   ]
  },
  {
   "cell_type": "code",
   "execution_count": 66,
   "metadata": {},
   "outputs": [
    {
     "data": {
      "text/plain": [
       "Балкон (1)    6057\n",
       "Лоджия (1)    4855\n",
       "Лоджия (2)     433\n",
       "Балкон (2)     364\n",
       "Балкон (3)      44\n",
       "Лоджия (3)      37\n",
       "Балкон (4)       4\n",
       "Лоджия (4)       3\n",
       "Name: a, dtype: int64"
      ]
     },
     "execution_count": 66,
     "metadata": {},
     "output_type": "execute_result"
    }
   ],
   "source": [
    "df['a'].value_counts()"
   ]
  },
  {
   "cell_type": "code",
   "execution_count": 67,
   "metadata": {},
   "outputs": [
    {
     "data": {
      "text/plain": [
       "5327"
      ]
     },
     "execution_count": 67,
     "metadata": {},
     "output_type": "execute_result"
    }
   ],
   "source": [
    "df['a'].isna().sum()"
   ]
  },
  {
   "cell_type": "code",
   "execution_count": 68,
   "metadata": {},
   "outputs": [
    {
     "data": {
      "text/plain": [
       "1                  NaN\n",
       "2                  NaN\n",
       "3                  NaN\n",
       "4                  NaN\n",
       "6                  NaN\n",
       "             ...      \n",
       "23363    [Балкон , 1)]\n",
       "23364    [Лоджия , 1)]\n",
       "23365    [Балкон , 1)]\n",
       "23366    [Лоджия , 1)]\n",
       "23367    [Лоджия , 1)]\n",
       "Name: a, Length: 17124, dtype: object"
      ]
     },
     "execution_count": 68,
     "metadata": {},
     "output_type": "execute_result"
    }
   ],
   "source": [
    "df['a'] = df['a'].str.split('(')\n",
    "#df['a'] = df['a'].apply(lambda x: x[0])\n",
    "df['a']\n"
   ]
  },
  {
   "cell_type": "code",
   "execution_count": null,
   "metadata": {},
   "outputs": [],
   "source": []
  },
  {
   "cell_type": "code",
   "execution_count": null,
   "metadata": {},
   "outputs": [],
   "source": []
  },
  {
   "cell_type": "code",
   "execution_count": null,
   "metadata": {},
   "outputs": [],
   "source": []
  },
  {
   "cell_type": "code",
   "execution_count": null,
   "metadata": {},
   "outputs": [],
   "source": []
  },
  {
   "cell_type": "markdown",
   "metadata": {},
   "source": [
    "В самом конце \n",
    "\n",
    "- переведем названия колонок на английском языке в одно или несколько слов с нижним подчёркиванием\n",
    "\n",
    "- проверим что все значения внутри данных должны быть только численного типа (int или float)"
   ]
  },
  {
   "cell_type": "code",
   "execution_count": 69,
   "metadata": {},
   "outputs": [
    {
     "data": {
      "text/html": [
       "<div>\n",
       "<style scoped>\n",
       "    .dataframe tbody tr th:only-of-type {\n",
       "        vertical-align: middle;\n",
       "    }\n",
       "\n",
       "    .dataframe tbody tr th {\n",
       "        vertical-align: top;\n",
       "    }\n",
       "\n",
       "    .dataframe thead th {\n",
       "        text-align: right;\n",
       "    }\n",
       "</style>\n",
       "<table border=\"1\" class=\"dataframe\">\n",
       "  <thead>\n",
       "    <tr style=\"text-align: right;\">\n",
       "      <th></th>\n",
       "      <th>Количество комнат</th>\n",
       "      <th>Метро</th>\n",
       "      <th>Адрес</th>\n",
       "      <th>Парковка</th>\n",
       "      <th>Балкон</th>\n",
       "      <th>Санузел</th>\n",
       "      <th>Мусоропровод</th>\n",
       "      <th>Расстояние до метро, мин пешком</th>\n",
       "      <th>Общая площадь</th>\n",
       "      <th>Этаж</th>\n",
       "      <th>Тип дома</th>\n",
       "      <th>Стоимость аренды</th>\n",
       "      <th>Раздельный туалет</th>\n",
       "      <th>Можно с д</th>\n",
       "      <th>Можно с д+ж</th>\n",
       "      <th>Можно с ж</th>\n",
       "      <th>Окна во д</th>\n",
       "      <th>Окна на у</th>\n",
       "      <th>Окна д+у</th>\n",
       "      <th>Ремонт д</th>\n",
       "      <th>Ремонт е</th>\n",
       "      <th>Ремонт к</th>\n",
       "      <th>a</th>\n",
       "      <th>b</th>\n",
       "    </tr>\n",
       "  </thead>\n",
       "  <tbody>\n",
       "    <tr>\n",
       "      <th>1</th>\n",
       "      <td>4</td>\n",
       "      <td>Смоленская</td>\n",
       "      <td>Москва, улица Новый Арбат, 27</td>\n",
       "      <td>1</td>\n",
       "      <td>0</td>\n",
       "      <td>Совмещенный (2), Раздельный (1)</td>\n",
       "      <td>0.0</td>\n",
       "      <td>8.0</td>\n",
       "      <td>198.0</td>\n",
       "      <td>5/16</td>\n",
       "      <td>Монолитно-кирпичный</td>\n",
       "      <td>500000.0</td>\n",
       "      <td>1</td>\n",
       "      <td>1</td>\n",
       "      <td>0</td>\n",
       "      <td>0</td>\n",
       "      <td>0</td>\n",
       "      <td>0</td>\n",
       "      <td>1</td>\n",
       "      <td>1</td>\n",
       "      <td>0</td>\n",
       "      <td>0</td>\n",
       "      <td>NaN</td>\n",
       "      <td>NaN</td>\n",
       "    </tr>\n",
       "    <tr>\n",
       "      <th>2</th>\n",
       "      <td>4</td>\n",
       "      <td>Смоленская</td>\n",
       "      <td>Москва, улица Новый Арбат, 27</td>\n",
       "      <td>1</td>\n",
       "      <td>0</td>\n",
       "      <td>Совмещенный (3)</td>\n",
       "      <td>0.0</td>\n",
       "      <td>7.0</td>\n",
       "      <td>200.0</td>\n",
       "      <td>5/16</td>\n",
       "      <td>None</td>\n",
       "      <td>500000.0</td>\n",
       "      <td>0</td>\n",
       "      <td>1</td>\n",
       "      <td>0</td>\n",
       "      <td>0</td>\n",
       "      <td>0</td>\n",
       "      <td>0</td>\n",
       "      <td>1</td>\n",
       "      <td>0</td>\n",
       "      <td>1</td>\n",
       "      <td>0</td>\n",
       "      <td>NaN</td>\n",
       "      <td>NaN</td>\n",
       "    </tr>\n",
       "    <tr>\n",
       "      <th>3</th>\n",
       "      <td>4</td>\n",
       "      <td>Смоленская</td>\n",
       "      <td>Москва, переулок Плотников, 21С1</td>\n",
       "      <td>1</td>\n",
       "      <td>0</td>\n",
       "      <td>Совмещенный (3)</td>\n",
       "      <td>0.0</td>\n",
       "      <td>3.0</td>\n",
       "      <td>170.0</td>\n",
       "      <td>5/6</td>\n",
       "      <td>None</td>\n",
       "      <td>400000.0</td>\n",
       "      <td>0</td>\n",
       "      <td>0</td>\n",
       "      <td>0</td>\n",
       "      <td>1</td>\n",
       "      <td>0</td>\n",
       "      <td>0</td>\n",
       "      <td>1</td>\n",
       "      <td>0</td>\n",
       "      <td>1</td>\n",
       "      <td>0</td>\n",
       "      <td>NaN</td>\n",
       "      <td>NaN</td>\n",
       "    </tr>\n",
       "    <tr>\n",
       "      <th>4</th>\n",
       "      <td>2</td>\n",
       "      <td>Арбатская</td>\n",
       "      <td>Москва, улица Новый Арбат, 15</td>\n",
       "      <td>0</td>\n",
       "      <td>0</td>\n",
       "      <td>Совмещенный (2)</td>\n",
       "      <td>1.0</td>\n",
       "      <td>7.0</td>\n",
       "      <td>58.0</td>\n",
       "      <td>12/26</td>\n",
       "      <td>Панельный</td>\n",
       "      <td>225000.0</td>\n",
       "      <td>0</td>\n",
       "      <td>0</td>\n",
       "      <td>0</td>\n",
       "      <td>0</td>\n",
       "      <td>0</td>\n",
       "      <td>0</td>\n",
       "      <td>1</td>\n",
       "      <td>0</td>\n",
       "      <td>1</td>\n",
       "      <td>0</td>\n",
       "      <td>NaN</td>\n",
       "      <td>NaN</td>\n",
       "    </tr>\n",
       "    <tr>\n",
       "      <th>6</th>\n",
       "      <td>5</td>\n",
       "      <td>Арбатская</td>\n",
       "      <td>Москва, переулок Романов, 3С1</td>\n",
       "      <td>1</td>\n",
       "      <td>0</td>\n",
       "      <td>Совмещенный (2)</td>\n",
       "      <td>0.0</td>\n",
       "      <td>4.0</td>\n",
       "      <td>213.0</td>\n",
       "      <td>4/5</td>\n",
       "      <td>None</td>\n",
       "      <td>350000.0</td>\n",
       "      <td>0</td>\n",
       "      <td>0</td>\n",
       "      <td>1</td>\n",
       "      <td>0</td>\n",
       "      <td>0</td>\n",
       "      <td>0</td>\n",
       "      <td>1</td>\n",
       "      <td>0</td>\n",
       "      <td>1</td>\n",
       "      <td>0</td>\n",
       "      <td>NaN</td>\n",
       "      <td>NaN</td>\n",
       "    </tr>\n",
       "    <tr>\n",
       "      <th>...</th>\n",
       "      <td>...</td>\n",
       "      <td>...</td>\n",
       "      <td>...</td>\n",
       "      <td>...</td>\n",
       "      <td>...</td>\n",
       "      <td>...</td>\n",
       "      <td>...</td>\n",
       "      <td>...</td>\n",
       "      <td>...</td>\n",
       "      <td>...</td>\n",
       "      <td>...</td>\n",
       "      <td>...</td>\n",
       "      <td>...</td>\n",
       "      <td>...</td>\n",
       "      <td>...</td>\n",
       "      <td>...</td>\n",
       "      <td>...</td>\n",
       "      <td>...</td>\n",
       "      <td>...</td>\n",
       "      <td>...</td>\n",
       "      <td>...</td>\n",
       "      <td>...</td>\n",
       "      <td>...</td>\n",
       "      <td>...</td>\n",
       "    </tr>\n",
       "    <tr>\n",
       "      <th>23363</th>\n",
       "      <td>0</td>\n",
       "      <td>Говорово</td>\n",
       "      <td>Москва, Боровское шоссе, 2к7, ш. Боровское (3 ...</td>\n",
       "      <td>0</td>\n",
       "      <td>Балкон (1)</td>\n",
       "      <td>Совмещенный (1)</td>\n",
       "      <td>0.0</td>\n",
       "      <td>8.0</td>\n",
       "      <td>35.0</td>\n",
       "      <td>10/14</td>\n",
       "      <td>None</td>\n",
       "      <td>42000.0</td>\n",
       "      <td>0</td>\n",
       "      <td>0</td>\n",
       "      <td>0</td>\n",
       "      <td>0</td>\n",
       "      <td>0</td>\n",
       "      <td>0</td>\n",
       "      <td>0</td>\n",
       "      <td>0</td>\n",
       "      <td>1</td>\n",
       "      <td>0</td>\n",
       "      <td>[Балкон , 1)]</td>\n",
       "      <td>None</td>\n",
       "    </tr>\n",
       "    <tr>\n",
       "      <th>23364</th>\n",
       "      <td>1</td>\n",
       "      <td>Солнцево</td>\n",
       "      <td>Москва, Производственная улица, 8к1, ш. Боровс...</td>\n",
       "      <td>0</td>\n",
       "      <td>Лоджия (1)</td>\n",
       "      <td>Совмещенный (1)</td>\n",
       "      <td>0.0</td>\n",
       "      <td>7.0</td>\n",
       "      <td>38.7</td>\n",
       "      <td>5/18</td>\n",
       "      <td>Монолитный</td>\n",
       "      <td>45000.0</td>\n",
       "      <td>0</td>\n",
       "      <td>0</td>\n",
       "      <td>0</td>\n",
       "      <td>0</td>\n",
       "      <td>1</td>\n",
       "      <td>0</td>\n",
       "      <td>0</td>\n",
       "      <td>0</td>\n",
       "      <td>1</td>\n",
       "      <td>0</td>\n",
       "      <td>[Лоджия , 1)]</td>\n",
       "      <td>None</td>\n",
       "    </tr>\n",
       "    <tr>\n",
       "      <th>23365</th>\n",
       "      <td>2</td>\n",
       "      <td>Солнцево</td>\n",
       "      <td>Москва, Боровский проезд, 11</td>\n",
       "      <td>0</td>\n",
       "      <td>Балкон (1)</td>\n",
       "      <td>Совмещенный (1)</td>\n",
       "      <td>0.0</td>\n",
       "      <td>6.0</td>\n",
       "      <td>43.1</td>\n",
       "      <td>5/5</td>\n",
       "      <td>Кирпичный</td>\n",
       "      <td>50000.0</td>\n",
       "      <td>0</td>\n",
       "      <td>1</td>\n",
       "      <td>0</td>\n",
       "      <td>0</td>\n",
       "      <td>0</td>\n",
       "      <td>0</td>\n",
       "      <td>1</td>\n",
       "      <td>1</td>\n",
       "      <td>0</td>\n",
       "      <td>0</td>\n",
       "      <td>[Балкон , 1)]</td>\n",
       "      <td>None</td>\n",
       "    </tr>\n",
       "    <tr>\n",
       "      <th>23366</th>\n",
       "      <td>2</td>\n",
       "      <td>Солнцево</td>\n",
       "      <td>Москва, улица Богданова, 6к1, ш. Боровское (3 ...</td>\n",
       "      <td>1</td>\n",
       "      <td>Лоджия (1)</td>\n",
       "      <td>Совмещенный (1), Раздельный (1)</td>\n",
       "      <td>1.0</td>\n",
       "      <td>1.0</td>\n",
       "      <td>52.5</td>\n",
       "      <td>8/23</td>\n",
       "      <td>Монолитный</td>\n",
       "      <td>55000.0</td>\n",
       "      <td>1</td>\n",
       "      <td>0</td>\n",
       "      <td>0</td>\n",
       "      <td>0</td>\n",
       "      <td>1</td>\n",
       "      <td>0</td>\n",
       "      <td>0</td>\n",
       "      <td>0</td>\n",
       "      <td>1</td>\n",
       "      <td>0</td>\n",
       "      <td>[Лоджия , 1)]</td>\n",
       "      <td>None</td>\n",
       "    </tr>\n",
       "    <tr>\n",
       "      <th>23367</th>\n",
       "      <td>2</td>\n",
       "      <td>Говорово</td>\n",
       "      <td>Москва, улица Богданова, 2к1, ш. Боровское (3 ...</td>\n",
       "      <td>0</td>\n",
       "      <td>Лоджия (1)</td>\n",
       "      <td>Раздельный (1)</td>\n",
       "      <td>1.0</td>\n",
       "      <td>1.0</td>\n",
       "      <td>90.0</td>\n",
       "      <td>6/23</td>\n",
       "      <td>Панельный</td>\n",
       "      <td>57000.0</td>\n",
       "      <td>1</td>\n",
       "      <td>0</td>\n",
       "      <td>1</td>\n",
       "      <td>0</td>\n",
       "      <td>1</td>\n",
       "      <td>0</td>\n",
       "      <td>0</td>\n",
       "      <td>0</td>\n",
       "      <td>0</td>\n",
       "      <td>1</td>\n",
       "      <td>[Лоджия , 1)]</td>\n",
       "      <td>None</td>\n",
       "    </tr>\n",
       "  </tbody>\n",
       "</table>\n",
       "<p>17124 rows × 24 columns</p>\n",
       "</div>"
      ],
      "text/plain": [
       "      Количество комнат       Метро  \\\n",
       "1                     4  Смоленская   \n",
       "2                     4  Смоленская   \n",
       "3                     4  Смоленская   \n",
       "4                     2   Арбатская   \n",
       "6                     5   Арбатская   \n",
       "...                 ...         ...   \n",
       "23363                 0    Говорово   \n",
       "23364                 1    Солнцево   \n",
       "23365                 2    Солнцево   \n",
       "23366                 2    Солнцево   \n",
       "23367                 2    Говорово   \n",
       "\n",
       "                                                   Адрес Парковка      Балкон  \\\n",
       "1                          Москва, улица Новый Арбат, 27        1           0   \n",
       "2                          Москва, улица Новый Арбат, 27        1           0   \n",
       "3                       Москва, переулок Плотников, 21С1        1           0   \n",
       "4                          Москва, улица Новый Арбат, 15        0           0   \n",
       "6                          Москва, переулок Романов, 3С1        1           0   \n",
       "...                                                  ...      ...         ...   \n",
       "23363  Москва, Боровское шоссе, 2к7, ш. Боровское (3 ...        0  Балкон (1)   \n",
       "23364  Москва, Производственная улица, 8к1, ш. Боровс...        0  Лоджия (1)   \n",
       "23365                       Москва, Боровский проезд, 11        0  Балкон (1)   \n",
       "23366  Москва, улица Богданова, 6к1, ш. Боровское (3 ...        1  Лоджия (1)   \n",
       "23367  Москва, улица Богданова, 2к1, ш. Боровское (3 ...        0  Лоджия (1)   \n",
       "\n",
       "                               Санузел  Мусоропровод  \\\n",
       "1      Совмещенный (2), Раздельный (1)           0.0   \n",
       "2                      Совмещенный (3)           0.0   \n",
       "3                      Совмещенный (3)           0.0   \n",
       "4                      Совмещенный (2)           1.0   \n",
       "6                      Совмещенный (2)           0.0   \n",
       "...                                ...           ...   \n",
       "23363                  Совмещенный (1)           0.0   \n",
       "23364                  Совмещенный (1)           0.0   \n",
       "23365                  Совмещенный (1)           0.0   \n",
       "23366  Совмещенный (1), Раздельный (1)           1.0   \n",
       "23367                   Раздельный (1)           1.0   \n",
       "\n",
       "       Расстояние до метро, мин пешком  Общая площадь   Этаж  \\\n",
       "1                                  8.0          198.0   5/16   \n",
       "2                                  7.0          200.0   5/16   \n",
       "3                                  3.0          170.0    5/6   \n",
       "4                                  7.0           58.0  12/26   \n",
       "6                                  4.0          213.0    4/5   \n",
       "...                                ...            ...    ...   \n",
       "23363                              8.0           35.0  10/14   \n",
       "23364                              7.0           38.7   5/18   \n",
       "23365                              6.0           43.1    5/5   \n",
       "23366                              1.0           52.5   8/23   \n",
       "23367                              1.0           90.0   6/23   \n",
       "\n",
       "                   Тип дома Стоимость аренды  Раздельный туалет  Можно с д  \\\n",
       "1       Монолитно-кирпичный         500000.0                  1          1   \n",
       "2                      None         500000.0                  0          1   \n",
       "3                      None         400000.0                  0          0   \n",
       "4                 Панельный         225000.0                  0          0   \n",
       "6                      None         350000.0                  0          0   \n",
       "...                     ...              ...                ...        ...   \n",
       "23363                  None          42000.0                  0          0   \n",
       "23364            Монолитный          45000.0                  0          0   \n",
       "23365             Кирпичный          50000.0                  0          1   \n",
       "23366            Монолитный          55000.0                  1          0   \n",
       "23367             Панельный          57000.0                  1          0   \n",
       "\n",
       "       Можно с д+ж  Можно с ж  Окна во д  Окна на у  Окна д+у  Ремонт д  \\\n",
       "1                0          0          0          0         1         1   \n",
       "2                0          0          0          0         1         0   \n",
       "3                0          1          0          0         1         0   \n",
       "4                0          0          0          0         1         0   \n",
       "6                1          0          0          0         1         0   \n",
       "...            ...        ...        ...        ...       ...       ...   \n",
       "23363            0          0          0          0         0         0   \n",
       "23364            0          0          1          0         0         0   \n",
       "23365            0          0          0          0         1         1   \n",
       "23366            0          0          1          0         0         0   \n",
       "23367            1          0          1          0         0         0   \n",
       "\n",
       "       Ремонт е  Ремонт к              a     b  \n",
       "1             0         0            NaN   NaN  \n",
       "2             1         0            NaN   NaN  \n",
       "3             1         0            NaN   NaN  \n",
       "4             1         0            NaN   NaN  \n",
       "6             1         0            NaN   NaN  \n",
       "...         ...       ...            ...   ...  \n",
       "23363         1         0  [Балкон , 1)]  None  \n",
       "23364         1         0  [Лоджия , 1)]  None  \n",
       "23365         0         0  [Балкон , 1)]  None  \n",
       "23366         1         0  [Лоджия , 1)]  None  \n",
       "23367         0         1  [Лоджия , 1)]  None  \n",
       "\n",
       "[17124 rows x 24 columns]"
      ]
     },
     "execution_count": 69,
     "metadata": {},
     "output_type": "execute_result"
    }
   ],
   "source": [
    "df"
   ]
  },
  {
   "cell_type": "code",
   "execution_count": null,
   "metadata": {},
   "outputs": [],
   "source": []
  },
  {
   "cell_type": "code",
   "execution_count": null,
   "metadata": {},
   "outputs": [],
   "source": []
  }
 ],
 "metadata": {
  "kernelspec": {
   "display_name": "Python 3 (ipykernel)",
   "language": "python",
   "name": "python3"
  },
  "language_info": {
   "codemirror_mode": {
    "name": "ipython",
    "version": 3
   },
   "file_extension": ".py",
   "mimetype": "text/x-python",
   "name": "python",
   "nbconvert_exporter": "python",
   "pygments_lexer": "ipython3",
   "version": "3.10.1"
  },
  "vscode": {
   "interpreter": {
    "hash": "7e1998ff7f8aa20ada591c520b972326324e5ea05489af9e422744c7c09f6dad"
   }
  }
 },
 "nbformat": 4,
 "nbformat_minor": 2
}
